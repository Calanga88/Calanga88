{
  "cells": [
    {
      "cell_type": "markdown",
      "metadata": {
        "id": "view-in-github",
        "colab_type": "text"
      },
      "source": [
        "<a href=\"https://colab.research.google.com/github/Calanga88/Calanga88/blob/main/SIGE_1_7.ipynb\" target=\"_parent\"><img src=\"https://colab.research.google.com/assets/colab-badge.svg\" alt=\"Open In Colab\"/></a>"
      ]
    },
    {
      "cell_type": "markdown",
      "metadata": {
        "id": "nK80AZ5mO69X"
      },
      "source": [
        "#Import..."
      ]
    },
    {
      "cell_type": "code",
      "execution_count": null,
      "metadata": {
        "id": "jfYYct_gOm-_"
      },
      "outputs": [],
      "source": [
        "import re\n",
        "import json\n",
        "import hashlib\n",
        "import requests\n",
        "from bs4 import BeautifulSoup\n",
        "from datetime import datetime\n",
        "from requests.packages.urllib3.exceptions import InsecureRequestWarning\n",
        "\n",
        "requests.packages.urllib3.disable_warnings(InsecureRequestWarning)"
      ]
    },
    {
      "cell_type": "code",
      "execution_count": null,
      "metadata": {
        "id": "-qaWUHpxPH5F"
      },
      "outputs": [],
      "source": [
        "host = 'sigeur.up.ac.mz'\n",
        "#sigeur.up.ac.mz\n",
        "#host = 'sigeul.unilicungo.ac.mz'\n",
        "# Crie uma sessão\n",
        "#session = requests.Session()\n",
        "\n",
        "cookies = {\n",
        "    'PHPSESSID': 'lfanvu8vje37lp75v9hn2g4efa',\n",
        "    '_ga': 'GA1.3.572647773.1697004062',\n",
        "    '_gid': 'GA1.3.1626586042.1697004062',\n",
        "    '_gat_LoginPage': '1',\n",
        "}\n",
        "\n",
        "headers = {\n",
        "    'Host': f'{host}',\n",
        "    # 'Content-Length': '35',\n",
        "    'Accept': 'application/json, text/javascript, */*; q=0.01',\n",
        "    'Content-Type': 'application/x-www-form-urlencoded; charset=UTF-8',\n",
        "    'X-Requested-With': 'XMLHttpRequest',\n",
        "    'Sec-Ch-Ua-Mobile': '?0',\n",
        "    'User-Agent': 'Mozilla/5.0 (Windows NT 10.0; Win64; x64) AppleWebKit/537.36 (KHTML, like Gecko) Chrome/116.0.5845.141 Safari/537.36',\n",
        "    'Sec-Ch-Ua-Platform': '\"\"',\n",
        "    'Origin': f'https://{host}',\n",
        "    'Sec-Fetch-Site': 'same-origin',\n",
        "    'Sec-Fetch-Mode': 'cors',\n",
        "    'Sec-Fetch-Dest': 'empty',\n",
        "    'Referer': f'https://{host}/sigeup/',\n",
        "    # 'Accept-Encoding': 'gzip, deflate, br',\n",
        "    'Accept-Language': 'pt-PT,pt;q=0.9,en-US;q=0.8,en;q=0.7',\n",
        "    'Connection': 'close',\n",
        "    # 'Cookie': 'PHPSESSID=t7a1thdtq79gv9ou3442uvr7a7; _ga=GA1.3.572647773.1697004062; _gid=GA1.3.1626586042.1697004062; _gat_LoginPage=1',\n",
        "}\n"
      ]
    },
    {
      "cell_type": "code",
      "execution_count": null,
      "metadata": {
        "colab": {
          "base_uri": "https://localhost:8080/"
        },
        "id": "hn6a-t1WPNRZ",
        "outputId": "e38429a5-d277-4cd8-a5f0-2720a2bbb2d3"
      },
      "outputs": [
        {
          "output_type": "stream",
          "name": "stdout",
          "text": [
            "\"sucesso\"\n"
          ]
        }
      ],
      "source": [
        "def login(usuario, senha):\n",
        "  data = {\n",
        "      'usuario': usuario,\n",
        "      'senha': senha,\n",
        "  }\n",
        "\n",
        "  response = requests.post(\n",
        "      f'https://{host}/edondzo/controller/login.php',\n",
        "      cookies=cookies,\n",
        "      headers=headers,\n",
        "      data=data,\n",
        "      verify=False,\n",
        "  )\n",
        "  print(response.text)\n",
        "\n",
        "\n",
        "#usuario='mmia'\n",
        "#senha='Fernando01'\n",
        "#usuario=ahenriqueta&senha=1904neves\n",
        "usuario='oadamo'\n",
        "senha='LAURAALIFA2023'\n",
        "login(usuario, senha)"
      ]
    },
    {
      "cell_type": "markdown",
      "metadata": {
        "id": "4BlveJVAPpsP"
      },
      "source": [
        "#Functions"
      ]
    },
    {
      "cell_type": "code",
      "execution_count": null,
      "metadata": {
        "id": "HZZ5tOO3PzVQ"
      },
      "outputs": [],
      "source": [
        "#executa comandos sql (INSERT, UPDATE nd DELETE)\n",
        "def cmd_sql(sql_update):\n",
        "\n",
        "  #sql_update = f\"UPDATE inscricao_valor set valor={val} where estudante_id = '{estudante_id}' and ano_lectivo_id = (select ano_lectivo_id from inscricao where id='{inscricao_id}') and semestre= (select semestre from inscricao where id='{inscricao_id}')\"\n",
        "  data = f\"criterio=delete&id=00000';{sql_update};--\"\n",
        "\n",
        "  response = requests.post(\n",
        "        f'https://{host}/edondzo/controller/instituicao.php',\n",
        "        cookies=cookies,\n",
        "        headers=headers,\n",
        "        data=data,\n",
        "        verify=False,\n",
        "    )\n",
        "\n",
        "  soup = BeautifulSoup(response.text, \"html.parser\")\n",
        "  h4 = soup.find_all('h4')\n",
        "  v = 287\n",
        "  lst = []\n",
        "  for h4_t in h4:\n",
        "    if h4_t.getText() != '':\n",
        "        lst.append(h4_t.getText())\n",
        "\n",
        "  if len(lst) == 0:\n",
        "      messege = '(Sucesso) SQL Update'\n",
        "\n",
        "  else:\n",
        "      messege = f'(Erro ao gravar) SQL Update: {lst}'\n",
        "\n",
        "  print(messege)\n",
        "\n",
        "#executa comandos de consulta\n",
        "def SELECT(consulta):\n",
        "\n",
        "  data = f\"inicio=0&id=&nome=&campus=&curso={consulta};--\"\n",
        "\n",
        "  response = requests.post(\n",
        "      f'https://{host}/edondzo/view/estudante_lista.php',\n",
        "      cookies=cookies,\n",
        "      headers=headers,\n",
        "      data=data,\n",
        "      verify=False,\n",
        "  )\n",
        "  soup = BeautifulSoup(response.text, \"html.parser\")\n",
        "  p_tag = soup.find_all('td')\n",
        "  #print(soup)\n",
        "  dados = []\n",
        "  for p in p_tag:\n",
        "    if p.getText() != '':\n",
        "        dados.append(p.getText())\n",
        "\n",
        "  del dados[-1]\n",
        "\n",
        "  try:\n",
        "    #print(type(dados))\n",
        "    return dados\n",
        "  except Exception as e:\n",
        "    print('Log:', e)\n",
        "\n",
        "def parse_cookie_and_session(text):\n",
        "  cookie = re.search(r'cookie=(.*?)&', text).group(1)\n",
        "  session = re.search(r'sessao=(.*)', text).group(1)\n",
        "  return {\n",
        "    'cookie': cookie,\n",
        "    'session': session,\n",
        "  }\n",
        "\n",
        "def md5Hash(string):\n",
        "  # initializing string\n",
        "  str2hash = string\n",
        "  print(string)\n",
        "\n",
        "  # encoding GeeksforGeeks using encode()\n",
        "  # then sending to md5()\n",
        "  result = hashlib.md5(str2hash.encode())\n",
        "  return result.hexdigest()\n",
        "\n",
        "def list_to_dic(lst):\n",
        "    res_dct = {lst[i]: lst[i + 1] for i in range(0, len(lst), 2)}\n",
        "    return res_dct\n",
        "\n",
        "def repeat(word, m, n, id_max):\n",
        "    if(m > len(word)):\n",
        "        m = len(word)\n",
        "\n",
        "    id_max += 1\n",
        "    repeat_word = word[:m]\n",
        "    result = f\"{id_max}\"\n",
        "\n",
        "    for i in range(n):\n",
        "        result = repeat_word+result\n",
        "\n",
        "    return result\n",
        "\n",
        "def get_diciplinas(ano, estudante_id, all: bool = False) -> list:\n",
        "  if not all:\n",
        "    sql_cmd =f\"'UNION+SELECT+disciplina_id,docente,nome_disciplina,null,turma_id,nome_disciplina,null,null,null+FROM+pauta+where+ano_lectivo_id='{ano}'+and+estudante_id='{estudante_id}'+and+resultado_final+!='Aprovado' and resultado_final+!='Participou';--\"\n",
        "  else:\n",
        "    #consulta as diciplinas de acordo com o ano lectivo (incluindo as aprovadas)\n",
        "    sql_cmd =f\"'UNION+SELECT+disciplina_id,docente,nome_disciplina,null,turma_id,nome_disciplina,null,null,null+FROM+pauta+where+ano_lectivo_id='{ano}'+and+estudante_id='{estudante_id}';--\"\n",
        "  lista = SELECT(sql_cmd)\n",
        "  #print(lista)\n",
        "  return Convert(lista)"
      ]
    },
    {
      "cell_type": "code",
      "execution_count": null,
      "metadata": {
        "id": "rayilsv9QWnx"
      },
      "outputs": [],
      "source": [
        "def valida_pagamento_inscr(ano_lectivo_id, semestre, estudante_id, confirmada : bool = False):\n",
        "  #verifica se e estudante de 2024, se for definir eid_banco estudante antigo, caso nao eid_banco = estudante_id\n",
        "  banco_id_dic = {'06': '06.0485.2023', '07': '07.0940.2020', '08': '08.0189.2021', '05': '05.0485.2023', '01':'01.0940.2020', '04':'04.0189.2021'}\n",
        "  if estudante_id[8:] == ano_lectivo_id:\n",
        "    eid_banco = banco_id_dic[estudante_id[:2]]\n",
        "  else:\n",
        "    eid_banco = estudante_id\n",
        "\n",
        "  #Insere dados de recibo\n",
        "  sqlCmd = f\"\"\"\n",
        "  WITH DatasINSCR AS (\n",
        "      SELECT referencia, id, ano_lectivo_id, semestre\n",
        "      FROM temp_inscricao\n",
        "      WHERE ano_lectivo_id ='{ano_lectivo_id}' AND semestre = '{semestre}' AND confirmada = '0' AND estudante_id = '{estudante_id}'\n",
        "  ),\n",
        "  DatasCapturada AS (\n",
        "      SELECT data_comprovativo, data_emissao, trace_id\n",
        "      FROM recibo\n",
        "      WHERE num_comprovativo = (SELECT referencia FROM inscricao i\n",
        "          INNER JOIN recibo r ON i.referencia = r.num_comprovativo\n",
        "          WHERE ano_lectivo_id = (SELECT ano_lectivo_id FROM DatasINSCR) AND semestre = (SELECT semestre FROM DatasINSCR)\n",
        "          LIMIT 1)\n",
        "  )\n",
        "  INSERT INTO recibo (id, estudante_id, data_emissao, banco, forma_pagto, num_comprovativo, data_comprovativo, valor, extenso, trace_id, key)\n",
        "  SELECT '2020080000000' || (SELECT nextval('seq_recibo')::text), ti.estudante_id, (SELECT data_emissao FROM DatasCapturada), (SELECT MAX(banco) FROM recibo WHERE estudante_id = '{eid_banco}'), 'Servicos', ti.referencia, (SELECT data_comprovativo FROM DatasCapturada), ti.valor, (select extenso from recibo where valor = ti.valor limit 1), (select trace_id from DatasCapturada), (select key from recibo limit 1)\n",
        "  FROM temp_inscricao ti\n",
        "  WHERE ti.referencia = (SELECT referencia FROM DatasINSCR)\"\"\"\n",
        "  print('Inserindo dados de recibo: ', estudante_id)\n",
        "  cmd_sql(sqlCmd)\n",
        "\n",
        "  #--insere dados na tabela recebimento (comando unico)\n",
        "  sqlCmd = f\"\"\"\n",
        "  WITH ReferenciaCapturada AS (\n",
        "      SELECT referencia, id, ano_lectivo_id, semestre\n",
        "      FROM temp_inscricao\n",
        "      WHERE ano_lectivo_id ='{ano_lectivo_id}' AND semestre = '{semestre}' AND confirmada = '0' AND estudante_id = '{estudante_id}'\n",
        "  ),\n",
        "  DataCapturada AS (\n",
        "      SELECT data_movimento\n",
        "      FROM recebimento\n",
        "      WHERE recibo_id = (SELECT id FROM recibo where num_comprovativo = (SELECT referencia FROM inscricao i\n",
        "          INNER JOIN recibo r ON i.referencia = r.num_comprovativo\n",
        "          WHERE ano_lectivo_id = (SELECT ano_lectivo_id FROM ReferenciaCapturada) AND semestre = (SELECT semestre FROM ReferenciaCapturada)\n",
        "          LIMIT 1)) LIMIT 1\n",
        "  )\n",
        "  INSERT INTO recebimento (id, tipo, estudante_id, historico, valor, recibo_id, trace_id, data_movimento)\n",
        "  SELECT '2023000000000' || (SELECT tp.id::text), 'Emolumento', ti.estudante_id, tp.nome, tp.valor, r.id, r.trace_id, (select data_movimento from DataCapturada) FROM temp_inscricao ti, recibo r, temp_pagamentos tp where ti.referencia = (select referencia from ReferenciaCapturada) AND r.num_comprovativo = (select referencia from ReferenciaCapturada) AND tp.temp_inscricao_id = (select id from ReferenciaCapturada)\"\"\"\n",
        "  print('Inserindo dados na tabela recebimento (comando unico): ', estudante_id)\n",
        "  cmd_sql(sqlCmd)\n",
        "\n",
        "  #--Insere dados na tabela inscricao_valor\n",
        "  sqlCmd = f\"\"\"\n",
        "  WITH ReferenciaCapturada AS (\n",
        "      SELECT referencia, id, ano_lectivo_id, semestre\n",
        "      FROM temp_inscricao\n",
        "      WHERE ano_lectivo_id ='{ano_lectivo_id}' AND semestre = '{semestre}' AND confirmada = '0' AND estudante_id = '{estudante_id}'\n",
        "  )\n",
        "  INSERT INTO inscricao_valor (estudante_id, ano_lectivo_id, semestre, valor, trace_id, referencia, key)\n",
        "                              (SELECT ti.estudante_id, ti.ano_lectivo_id, ti.semestre, r.valor, r.trace_id, r.id, (select key from recibo limit 1) FROM temp_inscricao ti INNER JOIN recibo r ON r.num_comprovativo = ti.referencia where ti.id = (select id from ReferenciaCapturada))\"\"\"\n",
        "  print('Inserindo dados na tabela inscricao_valor: ', estudante_id)\n",
        "  cmd_sql(sqlCmd)"
      ]
    },
    {
      "cell_type": "code",
      "execution_count": null,
      "metadata": {
        "id": "Zga8WDrrA9f8"
      },
      "outputs": [],
      "source": [
        "def getPre(estudante_id,ano_lectivo_id,semestre):\n",
        "  data = f\"inicio=0&id=&nome=&campus=&curso='UNION+SELECT+id,null,null,null,null,null,null,null,null FROM temp_inscricao where estudante_id ='{estudante_id}' and ano_lectivo_id = '{ano_lectivo_id}' and semestre='{semestre}' and confirmada != 1;--\"\n",
        "\n",
        "  response = requests.post(\n",
        "    f'https://{host}/edondzo/view/estudante_lista.php',\n",
        "    cookies=cookies,\n",
        "    headers=headers,\n",
        "    data=data,\n",
        "    verify=False,\n",
        "  )\n",
        "\n",
        "  soup = BeautifulSoup(response.text, \"html.parser\")\n",
        "  dd = soup.find_all('tbody')\n",
        "  id_tag = soup.find_all('td')\n",
        "\n",
        "  #print(soup)\n",
        "  list_id = []\n",
        "  for d in id_tag:\n",
        "      if d.getText() != '':\n",
        "          list_id.append(d.getText())\n",
        "  list_id.remove('\\nAnterior\\nPróximo\\n')\n",
        "\n",
        "  try:\n",
        "    pre = list_id[0]\n",
        "    return pre\n",
        "  except IndexError:\n",
        "    print('Estudante nao tem pre ou ja esta Inscrito')\n",
        "    return None\n",
        "\n",
        "def getLogs_():\n",
        "  data = {\n",
        "    'log': 'enviarDadosParaLogInscricaoDoEstudanteNoSistema',\n",
        "    'log2': 'receberDadosDeConfirmacaoconfirmarInscricaoOnlineparaContinuar',\n",
        "  }\n",
        "\n",
        "  response = requests.post(\n",
        "      f'https://{host}/sigeup/app/helpers/index.php',\n",
        "      cookies=cookies,\n",
        "      headers=headers,\n",
        "      data=data,\n",
        "      verify=False,\n",
        "  )\n",
        "  return response.text\n",
        "\n",
        "def confirma_inscr(inscricao_id):\n",
        "  cookie_and_session = parse_cookie_and_session(getLogs_())\n",
        "  #print(cookie_and_session)\n",
        "  data = {\n",
        "      'cookie': f\"{cookie_and_session['cookie']}\",\n",
        "      'sessao': f\"{cookie_and_session['session']}\",\n",
        "      'id_inscricao': f'{inscricao_id}',\n",
        "      'intencao': 'undefined',\n",
        "  }\n",
        "\n",
        "  try:\n",
        "    print(f'Host: https://{host}/sigeup/public/index.php')\n",
        "    response = requests.post(\n",
        "        f'https://{host}/sigeup/public/index.php',\n",
        "        cookies=cookies,\n",
        "        headers=headers,\n",
        "        data=data,\n",
        "        verify=False,\n",
        "    )\n",
        "    mensagem = json.loads(response.text)\n",
        "    soup = BeautifulSoup(mensagem['mensagem'], \"html.parser\")\n",
        "    h4 = soup.find('h4')\n",
        "    li = soup.find('li')\n",
        "    print(h4.getText(), li.getText())\n",
        "  except Exception as e:\n",
        "    print('Error:', e)\n"
      ]
    },
    {
      "cell_type": "code",
      "execution_count": null,
      "metadata": {
        "id": "G2iBQYjplOhN"
      },
      "outputs": [],
      "source": [
        "def Convert(lista):\n",
        "  # Inicializa a lista de dicionários vazia\n",
        "  lista_de_dicts = []\n",
        "\n",
        "  # Itera sobre a lista de dados de três em três elementos\n",
        "  for disciplina_id, docente, turma_id, resultado in zip(lista[::4], lista[1::4], lista[2::4], lista[3::4]):\n",
        "    # Cria um novo dicionário com as informações da disciplina, docente, turma e resultado\n",
        "    novo_dict = {'disciplina_id': disciplina_id, 'docente': docente, 'turma_id': turma_id, 'nome_disciplina': resultado}\n",
        "    # Adiciona o novo dicionário à lista de dicionários se o resultado for Reprovado\n",
        "    #if resultado == 'Reprovado':\n",
        "    lista_de_dicts.append(novo_dict)\n",
        "  return lista_de_dicts"
      ]
    },
    {
      "cell_type": "code",
      "execution_count": null,
      "metadata": {
        "id": "3aREvtsHoRS3"
      },
      "outputs": [],
      "source": [
        "def sum_debito(years: list, estudante_id):\n",
        "  sql_cmd =f\"'UNION+SELECT+CAST(SUM(debito) AS VARCHAR),null,null,null,null,null,null,null,null+FROM conta_corrente WHERE extract(year from data_debito) in {tuple(years)} AND extract(month from data_debito) <= 12 AND upper(estudante_id) = '{estudante_id}' AND CAST(credito AS varchar) != CAST(debito AS varchar);--\"\n",
        "  #print(sql_cmd)\n",
        "  print(SELECT(sql_cmd))\n",
        "\n",
        "def getListProp(years: list, estudante_id, value: bool = False, h = 'null'):\n",
        "  if value:\n",
        "    v = 'CAST(debito AS VARCHAR)'\n",
        "  else:\n",
        "    v = 'null'\n",
        "  sql_cmd =f\"'UNION+SELECT+id,{v},null,null,null,{h},null,null,null+FROM conta_corrente WHERE extract(year from data_debito) in {tuple(years)} AND extract(month from data_debito) <= 12 AND upper(estudante_id) = '{estudante_id}' AND CAST(credito AS varchar) != CAST(debito AS varchar);--\"\n",
        "  props = SELECT(sql_cmd)\n",
        "  return props\n",
        "\n",
        "def update_conta_corrente(propid, estudante_id, year, semestre):\n",
        "  #{estudante_id}\n",
        "  sqlProp = f\"\"\"\n",
        "    WITH DatasMensa AS (\n",
        "      SELECT referencia_bancaria\n",
        "      FROM conta_corrente\n",
        "      WHERE id = '{propid}'\n",
        "    ),\n",
        "    DatasCapturada AS (\n",
        "        SELECT data_comprovativo, data_emissao, trace_id\n",
        "        FROM recibo\n",
        "        WHERE num_comprovativo = (SELECT referencia FROM inscricao i\n",
        "            INNER JOIN recibo r ON i.referencia = r.num_comprovativo\n",
        "            WHERE ano_lectivo_id = '{year}' AND semestre = '{semestre}'\n",
        "            LIMIT 1)\n",
        "    )\n",
        "    INSERT INTO recibo (id, estudante_id, data_emissao, banco, forma_pagto, num_comprovativo, data_comprovativo, valor, extenso, trace_id)\n",
        "    SELECT '2020080000000' || (SELECT nextval('seq_recibo')::text), cc.estudante_id, (SELECT data_emissao FROM DatasCapturada), (SELECT MIN(banco) FROM recibo WHERE estudante_id = '06.1320.2022'), 'Servicos', cc.referencia_bancaria, (SELECT data_comprovativo FROM DatasCapturada), cc.debito, (select extenso from recibo where valor = cc.debito limit 1), (select trace_id from DatasCapturada)\n",
        "    FROM conta_corrente cc\n",
        "    WHERE cc.referencia_bancaria = (SELECT referencia_bancaria FROM DatasMensa)\"\"\"\n",
        "  print('Inserindo dados de recibo: ', propid)\n",
        "  cmd_sql(sqlProp)\n",
        "  #print(sqlProp)\n",
        "\n",
        "  sqlProp = f\"\"\"\n",
        "    WITH ReferenciaCapturada AS (\n",
        "      SELECT referencia_bancaria\n",
        "      FROM conta_corrente\n",
        "      WHERE id = '{propid}'\n",
        "    ),\n",
        "    DataCapturada AS (\n",
        "        SELECT data_movimento\n",
        "        FROM recebimento\n",
        "        WHERE recibo_id = (SELECT id FROM recibo where num_comprovativo = (SELECT referencia FROM inscricao i\n",
        "            INNER JOIN recibo r ON i.referencia = r.num_comprovativo\n",
        "            WHERE ano_lectivo_id = '{year}' AND semestre = '{semestre}'\n",
        "            LIMIT 1)) LIMIT 1\n",
        "    )\n",
        "    INSERT INTO recebimento (id, tipo, estudante_id, historico, valor, recibo_id, trace_id, data_movimento)\n",
        "    SELECT '2023000000000' || (SELECT nextval('seq_recebimento')::text), 'Propina', cc.estudante_id, cc.historico, cc.debito, r.id, r.trace_id, (select data_movimento from DataCapturada) FROM conta_corrente cc, recibo r where cc.referencia_bancaria = (select referencia_bancaria from ReferenciaCapturada) AND r.num_comprovativo = (select referencia_bancaria from ReferenciaCapturada)\"\"\"\n",
        "  print('Inserindo dados na tabela recebimento (comando unico): ', propid)\n",
        "  cmd_sql(sqlProp)\n",
        "  #print(sqlProp)\n",
        "\n",
        "def valida_props(year, estudante_id, propids):\n",
        "  if len(propids) > 1:\n",
        "    list_ids = tuple(propids)\n",
        "  else:\n",
        "    list_ids = f\"('{propids[0]}')\"\n",
        "  sqlProp = f\"\"\"\n",
        "    WITH UlccmoRegistro2023 AS (\n",
        "      SELECT MAX(id) AS ulccmo_id\n",
        "      FROM conta_corrente\n",
        "      WHERE extract(year from data_debito) = {year}\n",
        "    )\n",
        "    UPDATE conta_corrente AS cc\n",
        "    SET credito = debito,\n",
        "        trace_id = (SELECT trace_id FROM conta_corrente WHERE id = (SELECT ulccmo_id FROM UlccmoRegistro2023)),\n",
        "        data_pagto = (SELECT data_debito FROM conta_corrente WHERE id = (SELECT ulccmo_id FROM UlccmoRegistro2023))\n",
        "    WHERE id IN {list_ids}\n",
        "        AND upper(estudante_id) = '{estudante_id}'\n",
        "        AND CAST(credito AS varchar) != CAST(debito AS varchar)\"\"\"\n",
        "  cmd_sql(sqlProp)\n",
        "  print(\"Pedido executado com sucesso, Mensalidades validadas com Sucesso!\")"
      ]
    },
    {
      "cell_type": "markdown",
      "metadata": {
        "id": "XWlOV5uu7YQ-"
      },
      "source": [
        "#Confirma inscr"
      ]
    },
    {
      "cell_type": "code",
      "execution_count": null,
      "metadata": {
        "colab": {
          "base_uri": "https://localhost:8080/"
        },
        "id": "R7a1abaphHY5",
        "outputId": "0d949f93-0a7b-48c2-98e0-f3fe826251a1"
      },
      "outputs": [
        {
          "output_type": "stream",
          "name": "stdout",
          "text": [
            "(Sucesso) SQL Update\n",
            "(Sucesso) SQL Update\n",
            "Inserindo dados de recibo:  06.2288.2024\n",
            "(Sucesso) SQL Update\n",
            "Inserindo dados na tabela recebimento (comando unico):  06.2288.2024\n",
            "(Sucesso) SQL Update\n",
            "Inserindo dados na tabela inscricao_valor:  06.2288.2024\n",
            "(Sucesso) SQL Update\n",
            "Host: https://sigeur.up.ac.mz/sigeup/public/index.php\n",
            "Pedido executado com sucesso Inscrição validada com Sucesso!\n",
            "Inserindo dados de recibo:  06.2289.2024\n",
            "(Sucesso) SQL Update\n",
            "Inserindo dados na tabela recebimento (comando unico):  06.2289.2024\n",
            "(Sucesso) SQL Update\n",
            "Inserindo dados na tabela inscricao_valor:  06.2289.2024\n",
            "(Sucesso) SQL Update\n",
            "Host: https://sigeur.up.ac.mz/sigeup/public/index.php\n",
            "Pedido executado com sucesso Inscrição validada com Sucesso!\n",
            "(Sucesso) SQL Update\n",
            "(Sucesso) SQL Update\n"
          ]
        }
      ],
      "source": [
        "# prompt: execute a funcao valida pagamento\n",
        "ano_lectivo_id = '2024'\n",
        "semestre= '1'\n",
        "estudantes = [\n",
        "    '06.2288.2024',\n",
        "    '06.2289.2024']\n",
        "    #'06.0284.2018'\n",
        "\n",
        "cmd_sql(\"ALTER TABLE recibo DISABLE TRIGGER key_check_on, DISABLE TRIGGER audit_actions\")\n",
        "cmd_sql(\"ALTER TABLE inscricao_valor DISABLE TRIGGER key_check_on\")\n",
        "for estudante_id in estudantes:\n",
        "  inscricao_id = getPre(estudante_id,ano_lectivo_id,semestre)\n",
        "  if inscricao_id:\n",
        "    valida_pagamento_inscr(ano_lectivo_id, semestre, estudante_id)\n",
        "    confirma_inscr(inscricao_id)\n",
        "  else:\n",
        "    print('log Error: Estudante nao tem pre ou ja esta Inscrito')\n",
        "\n",
        "cmd_sql(\"ALTER TABLE recibo ENABLE TRIGGER key_check_on, ENABLE TRIGGER audit_actions\")\n",
        "cmd_sql(\"ALTER TABLE inscricao_valor ENABLE TRIGGER key_check_on\")\n",
        "\n",
        "#    '07.0730.2018',\n",
        "#    '07.0307.2018',\n",
        "#    '07.0918.2022',\n",
        "#    '07.0536.2020',\n",
        "#    '07.0630.2021',\n",
        "#    '07.0555.2021',"
      ]
    },
    {
      "cell_type": "code",
      "execution_count": null,
      "metadata": {
        "colab": {
          "base_uri": "https://localhost:8080/"
        },
        "id": "SFEVeMWt1TDw",
        "outputId": "dad41a97-32f9-46bd-e801-7663f792444a"
      },
      "outputs": [
        {
          "name": "stdout",
          "output_type": "stream",
          "text": [
            "(Sucesso) SQL Update\n",
            "(Sucesso) SQL Update\n",
            "(Sucesso) SQL Update\n",
            "(Sucesso) SQL Update\n"
          ]
        }
      ],
      "source": [
        "cmd_sql(\"ALTER TABLE inscricao_valor DISABLE TRIGGER key_check_on\")\n",
        "for i in ['06.2203.2022', '06.0485.2023']:\n",
        "  #--Insere dados na tabela inscricao_valor\n",
        "  sqlCmd = f\"\"\"\n",
        "  WITH ReferenciaCapturada AS (\n",
        "      SELECT referencia, id, ano_lectivo_id, semestre\n",
        "      FROM temp_inscricao\n",
        "      WHERE ano_lectivo_id ='2024' AND semestre = '1' AND confirmada = '0' AND estudante_id = '{i}'\n",
        "  )\n",
        "  INSERT INTO inscricao_valor (estudante_id, ano_lectivo_id, semestre, valor, trace_id, referencia, key)\n",
        "                              (SELECT ti.estudante_id, ti.ano_lectivo_id, ti.semestre, r.valor, r.trace_id, r.id, (select key from recibo limit 1) FROM temp_inscricao ti INNER JOIN recibo r ON r.num_comprovativo = ti.referencia where ti.id = (select id from ReferenciaCapturada))\"\"\"\n",
        "  cmd_sql(sqlCmd)\n",
        "\n",
        "cmd_sql(\"ALTER TABLE inscricao_valor ENABLE TRIGGER key_check_on\")"
      ]
    },
    {
      "cell_type": "code",
      "execution_count": null,
      "metadata": {
        "id": "E5jXD4e76Yf-"
      },
      "outputs": [],
      "source": [
        "def confirma_inscr2(inscricao_id):\n",
        "  sqlCmd = f\"\"\"\n",
        "  insert into inscricao(id, ano_lectivo_id, semestre, valor, estudante_id, usuario, data_mov, anulada, nivel_estudante, entidade, referencia, online, key)\n",
        "                                                       (select id, ano_lectivo_id, semestre, valor, estudante_id, 'CRON', data_mov, anulada, nivel_estudante, entidade, referencia, '1', (select key from recibo limit 1)\n",
        "                                                          from temp_inscricao where id = '{inscricao_id}')\"\"\"\n",
        "  cmd_sql(sqlCmd)\n",
        "  sqlCmd = f\"\"\"\n",
        "  insert into pauta (id, inscricao_id, ano_lectivo_id, semestre, curso_id, disciplina_id, nome_disciplina, nivel, estudante_id, turma_id, anulada, usuario, regime_id, delegacao_id, curso_habilita, plano_id, key)\n",
        "                                                      (select id, inscricao_id, ano_lectivo_id, semestre, curso_id, disciplina_id, nome_disciplina, nivel, estudante_id, turma_id, anulada, 'CRON', regime_id, delegacao_id, curso_habilita, plano_id, (select key from recibo limit 1)\n",
        "                                          from temp_pauta where inscricao_id = '{inscricao_id}')\"\"\"\n",
        "  cmd_sql(sqlCmd)\n",
        "  sqlCmd = f\"\"\"\n",
        "  insert into conta_corrente (id, estudante_id, historico, debito, trace_id, entidade, referencia_bancaria, inscricao_id, data_debito, key)\n",
        "                                                              (select id, estudante_id, historico, debito, 'CRON', entidade, referencia_bancaria, inscricao_id, data_debito, (select key from recibo limit 1)\n",
        "                                            from temp_conta_corrente where inscricao_id = '{inscricao_id}')\"\"\"\n",
        "  cmd_sql(sqlCmd)\n",
        "  cmd_sql(f\"UPDATE temp_inscricao set confirmada = 1 WHERE id = '{inscricao_id}'\")"
      ]
    },
    {
      "cell_type": "markdown",
      "metadata": {
        "id": "cJ7kgjCMPPQz"
      },
      "source": [
        "##confirma_inscr2"
      ]
    },
    {
      "cell_type": "code",
      "execution_count": null,
      "metadata": {
        "colab": {
          "base_uri": "https://localhost:8080/"
        },
        "id": "fL157TasPWZM",
        "outputId": "2b99f4b4-847e-4a3c-c58f-e81766b87bc8"
      },
      "outputs": [
        {
          "output_type": "stream",
          "name": "stdout",
          "text": [
            "(Sucesso) SQL Update\n",
            "(Sucesso) SQL Update\n",
            "(Sucesso) SQL Update\n",
            "(Sucesso) SQL Update\n",
            "(Sucesso) SQL Update\n",
            "(Sucesso) SQL Update\n",
            "(Sucesso) SQL Update\n",
            "(Sucesso) SQL Update\n",
            "(Sucesso) SQL Update\n",
            "(Sucesso) SQL Update\n",
            "(Sucesso) SQL Update\n",
            "(Sucesso) SQL Update\n",
            "(Sucesso) SQL Update\n",
            "(Sucesso) SQL Update\n"
          ]
        }
      ],
      "source": [
        "# prompt: execute a funcao valida pagamento\n",
        "ano_lectivo_id = '2024'\n",
        "semestre= '1'\n",
        "estudantes = ['07.0819.2022']\n",
        "cmd_sql(\"ALTER TABLE recibo DISABLE TRIGGER key_check_on, DISABLE TRIGGER audit_actions\")\n",
        "cmd_sql(\"ALTER TABLE inscricao DISABLE TRIGGER audit_actions, DISABLE TRIGGER key_check_on\")\n",
        "cmd_sql(\"ALTER TABLE pauta DISABLE TRIGGER key_check_on, DISABLE TRIGGER audit_actions\")\n",
        "cmd_sql(\"ALTER TABLE inscricao_valor DISABLE TRIGGER key_check_on\")\n",
        "cmd_sql(\"ALTER TABLE conta_corrente DISABLE TRIGGER key_check_on\")\n",
        "for estudante_id in estudantes:\n",
        "  inscricao_id = getPre(estudante_id,ano_lectivo_id,semestre)\n",
        "  if inscricao_id:\n",
        "    valida_pagamento_inscr(ano_lectivo_id, semestre, estudante_id)\n",
        "    confirma_inscr2(inscricao_id)\n",
        "  else:\n",
        "    print('log Error: Estudante nao tem pre ou ja esta Inscrito')\n",
        "\n",
        "cmd_sql(\"ALTER TABLE recibo ENABLE TRIGGER key_check_on, ENABLE TRIGGER audit_actions\")\n",
        "cmd_sql(\"ALTER TABLE inscricao_valor ENABLE TRIGGER key_check_on\")\n",
        "cmd_sql(\"ALTER TABLE inscricao ENABLE TRIGGER audit_actions, ENABLE TRIGGER key_check_on\")\n",
        "cmd_sql(\"ALTER TABLE pauta ENABLE TRIGGER key_check_on, ENABLE TRIGGER audit_actions\")\n",
        "cmd_sql(\"ALTER TABLE conta_corrente ENABLE TRIGGER key_check_on\")"
      ]
    },
    {
      "cell_type": "code",
      "execution_count": null,
      "metadata": {
        "colab": {
          "base_uri": "https://localhost:8080/"
        },
        "id": "I85SMmpVmfwV",
        "outputId": "c182deae-0ce3-44f7-d41b-82801a46a7cb"
      },
      "outputs": [
        {
          "name": "stdout",
          "output_type": "stream",
          "text": [
            "(Sucesso) SQL Update\n",
            "(Sucesso) SQL Update\n",
            "(Sucesso) SQL Update\n",
            "(Sucesso) SQL Update\n",
            "(Sucesso) SQL Update\n",
            "Inserindo dados de recibo:  04.1241.2022\n",
            "(Sucesso) SQL Update\n",
            "Inserindo dados na tabela recebimento (comando unico):  04.1241.2022\n",
            "(Sucesso) SQL Update\n",
            "Inserindo dados na tabela inscricao_valor:  04.1241.2022\n",
            "(Sucesso) SQL Update\n",
            "(Sucesso) SQL Update\n",
            "(Sucesso) SQL Update\n",
            "(Sucesso) SQL Update\n",
            "(Sucesso) SQL Update\n",
            "(Sucesso) SQL Update\n"
          ]
        }
      ],
      "source": [
        "cmd_sql(\"ALTER TABLE recibo DISABLE TRIGGER key_check_on, DISABLE TRIGGER audit_actions\")\n",
        "cmd_sql(\"ALTER TABLE inscricao DISABLE TRIGGER audit_actions, DISABLE TRIGGER key_check_on\")\n",
        "cmd_sql(\"ALTER TABLE pauta DISABLE TRIGGER key_check_on, DISABLE TRIGGER audit_actions\")\n",
        "cmd_sql(\"ALTER TABLE inscricao_valor DISABLE TRIGGER key_check_on\")\n",
        "cmd_sql(\"ALTER TABLE conta_corrente DISABLE TRIGGER key_check_on\")\n",
        "valida_pagamento_inscr(ano_lectivo_id, semestre, estudante_id)\n",
        "cmd_sql(\"ALTER TABLE recibo ENABLE TRIGGER key_check_on, ENABLE TRIGGER audit_actions\")\n",
        "cmd_sql(\"ALTER TABLE inscricao_valor ENABLE TRIGGER key_check_on\")\n",
        "cmd_sql(\"ALTER TABLE inscricao ENABLE TRIGGER audit_actions, ENABLE TRIGGER key_check_on\")\n",
        "cmd_sql(\"ALTER TABLE pauta ENABLE TRIGGER key_check_on, ENABLE TRIGGER audit_actions\")\n",
        "cmd_sql(\"ALTER TABLE conta_corrente ENABLE TRIGGER key_check_on\")"
      ]
    },
    {
      "cell_type": "markdown",
      "metadata": {
        "id": "TokZ2bBXaYe2"
      },
      "source": [
        "#Inscricao Formulario"
      ]
    },
    {
      "cell_type": "code",
      "execution_count": null,
      "metadata": {
        "id": "k_785cv7aeGF"
      },
      "outputs": [],
      "source": [
        "sql = f\"\"\"select e.*, r.nome regime, c.nome curso, d.nome delegacao,\n",
        "            ca.nome campus, d.id delegacao_id\n",
        "        from estudante e\n",
        "        inner join estudante_regime r on r.id = e.regime_id\n",
        "        inner join curso c on c.id = e.curso_id\n",
        "        inner join campus ca on ca.id = e.campus_id\n",
        "        inner join delegacao d on d.id = ca.delegacao_id\n",
        "        where trim(e.id) = '{id}'\"\"\""
      ]
    },
    {
      "cell_type": "markdown",
      "metadata": {
        "id": "tV10Xlpozmhc"
      },
      "source": [
        "#Insert estudent"
      ]
    },
    {
      "cell_type": "code",
      "execution_count": null,
      "metadata": {
        "id": "gbmWfq2czpsQ"
      },
      "outputs": [],
      "source": [
        "\n",
        "\n",
        "def texto_para_dicionario(texto):\n",
        "    # Dividir o texto em pares chave-valor\n",
        "    pares = texto.split('&')\n",
        "\n",
        "    # Inicializar um dicionário para armazenar os resultados\n",
        "    resultado = {}\n",
        "\n",
        "    # Iterar sobre os pares e adicioná-los ao dicionário\n",
        "    for par in pares:\n",
        "        chave, valor = par.split('=')\n",
        "        resultado[chave] = valor\n",
        "\n",
        "    return resultado\n",
        "\n",
        "def date_formated(data_original):\n",
        "    # Data no formato original\n",
        "    #data_original = \"23-06-2003\"\n",
        "\n",
        "    # Converter para o formato desejado\n",
        "    data_formatada = datetime.strptime(data_original, \"%d-%m-%Y\").strftime(\"%Y-%m-%d\")\n",
        "\n",
        "    # Imprimir a data formatada\n",
        "    return data_formatada\n"
      ]
    },
    {
      "cell_type": "code",
      "execution_count": null,
      "metadata": {
        "colab": {
          "base_uri": "https://localhost:8080/"
        },
        "id": "TZxcHEoM6h03",
        "outputId": "8e15e03a-0b3c-470e-f728-48eed4d12aa8"
      },
      "outputs": [
        {
          "name": "stdout",
          "output_type": "stream",
          "text": [
            "(Sucesso) SQL Update\n",
            "(Sucesso) SQL Update\n",
            "11082000\n",
            "(Sucesso) SQL Update\n",
            "(Sucesso) SQL Update\n",
            "(Sucesso) SQL Update\n",
            "(Sucesso) SQL Update\n"
          ]
        }
      ],
      "source": [
        "# Exemplo de uso:\n",
        "texto_ = \"criterio=save&id=06.2287.2024&update=true&ano_ingresso=2024&apelido=PEREIRA&nomes=ISSUFO+SALIMO&pai=salimo+pereira+salimo&mae=muaziza+artur&sexo=Masculino&data_nasc=11-08-2000&cell=844490202++++++&tel_fixo=+++++++++++++++&nivel=1&email=momadezecamomade%40gmail.com&delegacao=06&campus=014&regime=01&plano=008&curso=810++&curso_habilita=&habilitacao_ingresso=medio&habilitacao_escola=escola+secundaria+handan+bin+rashid+&area_formacao=12b&nivel_ano_conclusao=&precedencias=1&certificado=1&activo=1&pais=001&provincia=08++&distrito=0822&localidade=&bairro=muahivire&quarteirao=&casa=&avenida=&nacionalidade=001&doc_ident_tipo=01&doc_ident_num=030206483605a&doc_ident_emissao=08++&doc_ident_validade=19-01-2022&nuit=&obs=ADMITIDO&declaracao=0&militar=0\".replace('+', ' ')\n",
        "resultado_dict = texto_para_dicionario(texto_)\n",
        "\n",
        "# Imprimir o dicionário resultante\n",
        "#print(resultado_dict)\n",
        "resultado_dict['nome_completo'] = f\"{resultado_dict['nomes']} {resultado_dict['apelido']}\"\n",
        "estudante_value = f\"\"\"('{resultado_dict['id']}', '{resultado_dict['ano_ingresso']}', '{resultado_dict['curso']}', '{resultado_dict['apelido']}',\n",
        "                        '{resultado_dict['nomes']}', '{resultado_dict['nome_completo']}', '{resultado_dict['campus']}', '{resultado_dict['pai']}', '{resultado_dict['mae']}', '{resultado_dict['sexo']}', '{date_formated(resultado_dict['data_nasc'])}',\n",
        "                        '{resultado_dict['regime']}', '{resultado_dict['localidade']}', '{resultado_dict['distrito']}', '{resultado_dict['provincia']}', '{resultado_dict['pais']}', '{resultado_dict['bairro']}',\n",
        "                        '{resultado_dict['avenida']}', '{resultado_dict['quarteirao']}', '{resultado_dict['casa']}', '{resultado_dict['doc_ident_tipo']}', '{resultado_dict['doc_ident_num']}',\n",
        "                        '{resultado_dict['doc_ident_emissao']}', '{date_formated(resultado_dict['doc_ident_validade'])}', '{resultado_dict['cell']}', '{resultado_dict['tel_fixo']}', '{resultado_dict['email']}',\n",
        "                        '{resultado_dict['habilitacao_ingresso']}', '{resultado_dict['habilitacao_escola']}', '{resultado_dict['area_formacao']}', (select data_matricula from estudante limit 1), '{resultado_dict['obs']}',\n",
        "                        '{resultado_dict['activo']}', '{resultado_dict['plano']}', 'import', '{resultado_dict['nivel']}', '{resultado_dict['curso_habilita']}', '{resultado_dict['nacionalidade']}')\"\"\"\n",
        "sqlformat = f\"\"\"INSERT INTO estudante(\n",
        "                        id, ano_ingresso, curso_id, apelido,\n",
        "                        nomes, nome_completo, campus_id, pai, mae, sexo, data_nasc,\n",
        "                        regime_id, localidade, distrito, provincia, pais,\n",
        "                        bairro, avenida, quarteirao, casa, doc_ident_tipo, doc_ident_num,\n",
        "                        doc_ident_emissao, doc_ident_validade, cell, tel_fixo, email,\n",
        "                        habilitacao_ingresso, habilitacao_escola, area_formacao,\n",
        "                        data_matricula, obs, activo, plano_id, trace_id, nivel, curso_habilita, nacionalidade)\n",
        "                    VALUES {estudante_value}\"\"\"\n",
        "cmd_sql(\"ALTER TABLE estudante DISABLE TRIGGER key_check_on\")\n",
        "cmd_sql(sqlformat)\n",
        "#print(sqlformat)\n",
        "\n",
        "data_nasc = resultado_dict['data_nasc']\n",
        "sqlUser = f\"\"\"insert into usuario (id, nome, senha, activo, delegacao_id, perfil_id, tipo, trace_id, cell, key)\n",
        "                                          values('{resultado_dict['id']}', '{resultado_dict['nome_completo']}', '{md5Hash(data_nasc.replace('-',''))}', '1', '{resultado_dict['delegacao']}', '015', '1', 'jadriano', '{resultado_dict['cell']}', (select key from usuario limit 1))\"\"\"\n",
        "cmd_sql(\"ALTER TABLE usuario DISABLE TRIGGER key_check_on, DISABLE TRIGGER audit_actions\")\n",
        "cmd_sql(sqlUser)\n",
        "cmd_sql(\"ALTER TABLE estudante ENABLE TRIGGER key_check_on\")\n",
        "cmd_sql(\"ALTER TABLE usuario ENABLE TRIGGER key_check_on, ENABLE TRIGGER audit_actions\")\n",
        "#print(sqlUser)"
      ]
    },
    {
      "cell_type": "code",
      "execution_count": null,
      "metadata": {
        "colab": {
          "base_uri": "https://localhost:8080/"
        },
        "id": "PMKcDU1c8kYP",
        "outputId": "e371556b-7ab6-4547-8740-db8952903150"
      },
      "outputs": [
        {
          "name": "stdout",
          "output_type": "stream",
          "text": [
            "01102005\n",
            "(Sucesso) SQL Update\n",
            "(Sucesso) SQL Update\n"
          ]
        }
      ],
      "source": [
        "sqlUser = f\"\"\"insert into usuario (id, nome, senha, activo, delegacao_id, perfil_id, tipo, trace_id, cell, key)\n",
        "                                          values('{resultado_dict['id']}', '{resultado_dict['nome_completo']}', '{md5Hash(data_nasc.replace('-',''))}', '1', '{resultado_dict['delegacao']}', '015', '1', 'jadriano', '{resultado_dict['cell']}', (select key from usuario limit 1))\"\"\"\n",
        "cmd_sql(\"ALTER TABLE usuario DISABLE TRIGGER key_check_on, DISABLE TRIGGER audit_actions\")\n",
        "cmd_sql(sqlUser)"
      ]
    },
    {
      "cell_type": "code",
      "execution_count": null,
      "metadata": {
        "colab": {
          "base_uri": "https://localhost:8080/"
        },
        "id": "-aLmTe5268wb",
        "outputId": "dc8fb56e-426d-4942-dbe0-ac7002d769b3"
      },
      "outputs": [
        {
          "name": "stdout",
          "output_type": "stream",
          "text": [
            "(Sucesso) SQL Update\n",
            "(Sucesso) SQL Update\n"
          ]
        }
      ],
      "source": [
        "cmd_sql(\"ALTER TABLE estudante ENABLE TRIGGER key_check_on\")\n",
        "cmd_sql(\"ALTER TABLE usuario ENABLE TRIGGER key_check_on, ENABLE TRIGGER audit_actions\")"
      ]
    },
    {
      "cell_type": "markdown",
      "metadata": {
        "id": "w3rElR1ZSybg"
      },
      "source": [
        "##Update estudent"
      ]
    },
    {
      "cell_type": "code",
      "execution_count": null,
      "metadata": {
        "colab": {
          "base_uri": "https://localhost:8080/"
        },
        "id": "bzX7B0d7fVlm",
        "outputId": "f288d91f-7d92-4aa5-9785-c89364287ee6"
      },
      "outputs": [
        {
          "name": "stdout",
          "output_type": "stream",
          "text": [
            "(Sucesso) SQL Update\n",
            "(Sucesso) SQL Update\n",
            "(Sucesso) SQL Update\n"
          ]
        }
      ],
      "source": [
        "user = 'fbcataua'\n",
        "cmd_sql(\"ALTER TABLE usuario DISABLE TRIGGER key_check_on, DISABLE TRIGGER audit_actions, DISABLE TRIGGER set_password\")\n",
        "cmd_sql(f\"UPDATE usuario set senha = '8b6bc13c4e85d0f549a65764fb8451c5' where id='{user}'\")\n",
        "#cmd_sql(f\"UPDATE usuario set senha = '8b6bc13c4e85d0f549a65764fb8451c5' where id='{user}'\")\n",
        "#cmd_sql(f\"UPDATE usuario set activo = '1' where id='{user}'\")\n",
        "cmd_sql(\"ALTER TABLE usuario ENABLE TRIGGER key_check_on, ENABLE TRIGGER audit_actions, ENABLE TRIGGER set_password\")"
      ]
    },
    {
      "cell_type": "code",
      "execution_count": null,
      "metadata": {
        "colab": {
          "base_uri": "https://localhost:8080/"
        },
        "id": "10e5wgSYkhbz",
        "outputId": "da972d96-f584-431a-e8f7-b816ec88ffc7"
      },
      "outputs": [
        {
          "name": "stdout",
          "output_type": "stream",
          "text": [
            "16082002\n",
            "(Sucesso) SQL Update\n",
            "(Sucesso) SQL Update\n",
            "(Sucesso) SQL Update\n"
          ]
        }
      ],
      "source": [
        "#(id, nome, senha, activo, delegacao_id, perfil_id, tipo, trace_id, cell, key)\n",
        "texto_ = \"criterio=save&id=06.2014.2024&update=true&ano_ingresso=2024&apelido=SALEHE&nomes=TANIA+FERNANDO&pai=FERNANDO+SALEHE&mae=ELISA+DANIEL&sexo=Feminino&data_nasc=16-08-2002&cell=85+++++++++++++&tel_fixo=+++++++++++++++&nivel=1&email=&delegacao=06&campus=014&regime=01&plano=008&curso=632++&curso_habilita=&habilitacao_ingresso=MEDIO&habilitacao_escola=ESCOLA+SECUNDARIA+DE+NAMPULA&area_formacao=12B&nivel_ano_conclusao=&precedencias=1&certificado=1&activo=1&pais=001&provincia=08++&distrito=0819&localidade=081904&bairro=MICOLONE+49&quarteirao=11&casa=&avenida=&nacionalidade=001&doc_ident_tipo=01&doc_ident_num=030104716143J&doc_ident_emissao=08++&doc_ident_validade=02-09-2024&nuit=&obs=SUPLENTE&declaracao=0&militar=0\".replace('+', ' ')\n",
        "resultado_dict = texto_para_dicionario(texto_)\n",
        "resultado_dict['nome_completo'] = f\"{resultado_dict['nomes']} {resultado_dict['apelido']}\"\n",
        "data_nasc = resultado_dict['data_nasc']\n",
        "sqlUser = f\"UPDATE usuario set nome = '{resultado_dict['nome_completo']}', senha = '{md5Hash(data_nasc.replace('-',''))}' WHERE id = '{resultado_dict['id']}'\"\n",
        "#print(sqlUser)\n",
        "cmd_sql(\"ALTER TABLE usuario DISABLE TRIGGER key_check_on, DISABLE TRIGGER audit_actions\")\n",
        "cmd_sql(sqlUser)\n",
        "cmd_sql(\"ALTER TABLE usuario ENABLE TRIGGER key_check_on, ENABLE TRIGGER audit_actions\")"
      ]
    },
    {
      "cell_type": "markdown",
      "metadata": {
        "id": "LVkHCWKpS734"
      },
      "source": [
        "#Update pauta"
      ]
    },
    {
      "cell_type": "code",
      "execution_count": null,
      "metadata": {
        "colab": {
          "base_uri": "https://localhost:8080/"
        },
        "id": "zBxJ9BskOjMv",
        "outputId": "48cc7291-a04d-41c9-bdcb-8022fb58c7a3"
      },
      "outputs": [
        {
          "name": "stdout",
          "output_type": "stream",
          "text": [
            "Estudante: 06.0917.2018\n",
            "Ano: 2021,2022\n",
            "[]\n",
            "[]\n"
          ]
        }
      ],
      "source": [
        "estudante_id= input('Estudante: ')\n",
        "ano = input('Ano: ')\n",
        "#05.0839.2022\n",
        "#SELECT docente, disciplina_id, nome_disciplina, turma_id FROM pauta WHERE estudante_id = '04.1106.2019' and ano_lectivo_id = '2020' and resultado_final != 'Aprovado' and resultado_final != 'Participou';\n",
        "sql_cmd =f\"'UNION+SELECT+disciplina_id,docente,null,null,turma_id,nome_disciplina,null,null,null+FROM+pauta+where+ano_lectivo_id='{ano}'+and+estudante_id='{estudante_id}'+and+resultado_final+!='Aprovado' and resultado_final+!='Participou';--\"\n",
        "lista = SELECT(sql_cmd)\n",
        "print(lista)\n",
        "sql_cmd =f\"'UNION+SELECT+disciplina_id,docente,null,null,turma_id,resultado_final,null,null,null+FROM+pauta+where+ano_lectivo_id='{ano}'+and+estudante_id='{estudante_id}'+and+resultado_final+!='Aprovado' and resultado_final+!='Participou';--\"\n",
        "lista = SELECT(sql_cmd)\n",
        "print(lista)\n",
        "#content = Convert(lista)\n",
        "#content"
      ]
    },
    {
      "cell_type": "code",
      "execution_count": null,
      "metadata": {
        "colab": {
          "base_uri": "https://localhost:8080/"
        },
        "id": "dqTJKee1-1cF",
        "outputId": "db4168ce-a629-44ad-a68e-c5ad6ad98c04"
      },
      "outputs": [
        {
          "data": {
            "text/plain": [
              "[]"
            ]
          },
          "execution_count": 25,
          "metadata": {},
          "output_type": "execute_result"
        }
      ],
      "source": [
        "dd_i = 'História da educação'\n",
        "sql_cmd =f\"'UNION+SELECT+disciplina_id,docente,null,null,turma_id,nome_disciplina,null,null,null+FROM+pauta+where+ano_lectivo_id='{ano}'+and+estudante_id='{estudante_id}'+and+nome_disciplina='{dd_i}';--\"\n",
        "content = Convert(SELECT(sql_cmd))\n",
        "content"
      ]
    },
    {
      "cell_type": "code",
      "execution_count": null,
      "metadata": {
        "colab": {
          "base_uri": "https://localhost:8080/"
        },
        "id": "kXVfOj3NNwKM",
        "outputId": "8960dd34-86e6-4e42-8373-b6741c6c2a57"
      },
      "outputs": [
        {
          "output_type": "execute_result",
          "data": {
            "text/plain": [
              "[]"
            ]
          },
          "metadata": {},
          "execution_count": 9
        }
      ],
      "source": [
        "#estudante_id= input('Estudante: ')\n",
        "estudante_id= '06.0022.2020'\n",
        "ano = '2023' #input('Ano: ')\n",
        "#consulta as diciplinas reprovadas de acordo com o ano lectivo\n",
        "# defina o parametro all=true se quiser consultar todas, ex: get_diciplinas(ano, estudante_id, True)\n",
        "content = get_diciplinas(ano, estudante_id)\n",
        "content"
      ]
    },
    {
      "cell_type": "code",
      "execution_count": null,
      "metadata": {
        "colab": {
          "base_uri": "https://localhost:8080/"
        },
        "id": "fbe9o-5CkUHR",
        "outputId": "f3034c0c-96c4-45d9-aded-9f7d9110feea"
      },
      "outputs": [
        {
          "output_type": "stream",
          "name": "stdout",
          "text": [
            "0.disciplina=UP_ESTEC_INF_405_A_06&docente=02971&turma=2020_1_614_4_06_02_1_614B_008\n"
          ]
        }
      ],
      "source": [
        "Content=[]\n",
        "cont = 0\n",
        "for c in content:\n",
        "  Content.append({'disciplina_id':c['disciplina_id'], 'docente':c['docente'],'turma_id':c['turma_id']})\n",
        "  print(f\"{cont}.disciplina={c['disciplina_id']}&docente={c['docente']}&turma={c['turma_id']}\")\n",
        "  cont += 1"
      ]
    },
    {
      "cell_type": "code",
      "execution_count": null,
      "metadata": {
        "colab": {
          "base_uri": "https://localhost:8080/"
        },
        "id": "N4u2Bg4ekarf",
        "outputId": "e62c1fd2-dbd7-4566-b6db-c330819290a0"
      },
      "outputs": [
        {
          "output_type": "stream",
          "name": "stdout",
          "text": [
            "(Sucesso) SQL Update\n"
          ]
        }
      ],
      "source": [
        "#test =['teste1','teste2', 'teste3','trab1','trab2','trab3','examenormal','examerec']\n",
        "#ALTER TABLE pauta DISABLE TRIGGER key_check_on, DISABLE TRIGGER audit_actions;\n",
        "cmd_sql(\"ALTER TABLE pauta DISABLE TRIGGER key_check_on, DISABLE TRIGGER audit_actions;\")"
      ]
    },
    {
      "cell_type": "code",
      "execution_count": null,
      "metadata": {
        "id": "6O8StgepprQk"
      },
      "outputs": [],
      "source": [
        "def update_pauta(testes: list, notas: list, estudante):\n",
        "  for i, teste in enumerate(testes):\n",
        "    cmd_sql(f\"UPDATE pauta set {teste} = '{notas[i]}' where estudante_id='{estudante}' and disciplina_id = '{disciplina}' and turma_id = '{turma}'\")\n",
        "    print(f\"UPDATE pauta set {teste} = '{notas[i]}' where estudante_id='{estudante}' and disciplina_id = '{disciplina}' and turma_id = '{turma}'\")"
      ]
    },
    {
      "cell_type": "code",
      "execution_count": null,
      "metadata": {
        "colab": {
          "base_uri": "https://localhost:8080/"
        },
        "id": "--_Wyv-rkfcl",
        "outputId": "74427bd9-ed28-4074-ac4a-344450898467"
      },
      "outputs": [
        {
          "output_type": "stream",
          "name": "stdout",
          "text": [
            "(Sucesso) SQL Update\n",
            "UPDATE pauta set examenormal = '2.5' where estudante_id='06.1376.2016' and disciplina_id = 'UP_ESTEC_INF_405_A_06' and turma_id = '2020_1_614_4_06_02_1_614B_008'\n"
          ]
        }
      ],
      "source": [
        "#typ =f'{test[3]}'\n",
        "#nota ='14'\n",
        "i = 0\n",
        "disciplina = f\"{Content[i]['disciplina_id']}\"\n",
        "turma = f\"{Content[i]['turma_id']}\"\n",
        "estudante = estudante_id\n",
        "update_pauta(['examenormal'], ['2.5'], estudante)\n",
        "#cmd_sql(f\"UPDATE pauta set {typ} = '{nota}' where estudante_id='{estudante}' and disciplina_id = '{disciplina}' and turma_id = '{turma}'\")\n",
        "#UPDATE pauta set examenormal = '9.5' where estudante_id='06.0675.2021' and disciplina_id = 'UP_XX_102_A_04' and turma_id = '2022_1_721_2_06_01_1_008'"
      ]
    },
    {
      "cell_type": "code",
      "execution_count": null,
      "metadata": {
        "colab": {
          "base_uri": "https://localhost:8080/"
        },
        "id": "BTVQ8nr5pvW-",
        "outputId": "7c8a86df-b6d5-4b07-ae24-91cff23b706d"
      },
      "outputs": [
        {
          "name": "stdout",
          "output_type": "stream",
          "text": [
            "(Sucesso) SQL Update\n"
          ]
        }
      ],
      "source": [
        "cmd_sql(\"ALTER TABLE pauta ENABLE TRIGGER key_check_on, ENABLE TRIGGER audit_actions;\")"
      ]
    },
    {
      "cell_type": "code",
      "execution_count": null,
      "metadata": {
        "colab": {
          "base_uri": "https://localhost:8080/"
        },
        "id": "43aiUzx1WlYj",
        "outputId": "e7fb3985-4944-40e0-aad2-46cc0045e37a"
      },
      "outputs": [
        {
          "name": "stdout",
          "output_type": "stream",
          "text": [
            "(Sucesso) SQL Update\n",
            "(Sucesso) SQL Update\n",
            "(Sucesso) SQL Update\n"
          ]
        }
      ],
      "source": [
        "#UPDATE pauta set examerec = Null where estudante_id = '04.1106.2019' AND disciplina_id= 'UP_ESCOG_M1_402_A_06' AND turma_id = '2023_2_761_4_04_02_1_741A_008' AND docente = '05956';\n",
        "#UPDATE pauta set resultado_final = 'Participou' where estudante_id = '04.1106.2019' AND disciplina_id= 'UP_ESCOG_M1_402_A_06' AND turma_id = '2023_2_761_4_04_02_1_741A_008' AND docente = '05956';\n",
        "i = 2\n",
        "disciplina = f\"{Content[i]['disciplina_id']}\"\n",
        "turma = f\"{Content[i]['turma_id']}\"\n",
        "estudante = estudante_id\n",
        "cmd_sql('ALTER TABLE pauta DISABLE TRIGGER trg_pauta_bu')\n",
        "cmd_sql(f\"UPDATE pauta set resultado_final = 'Participou' where  estudante_id='{estudante}' AND  disciplina_id = '{disciplina}' AND turma_id = '{turma}'\")\n",
        "cmd_sql('ALTER TABLE pauta ENABLE TRIGGER trg_pauta_bu')"
      ]
    },
    {
      "cell_type": "code",
      "execution_count": null,
      "metadata": {
        "colab": {
          "base_uri": "https://localhost:8080/"
        },
        "id": "gVF4_oN0U_7L",
        "outputId": "8c9a1257-cb78-4f65-b853-fd492899ce9f"
      },
      "outputs": [
        {
          "name": "stdout",
          "output_type": "stream",
          "text": [
            "(Sucesso) SQL Update\n",
            "(Sucesso) SQL Update\n",
            "(Sucesso) SQL Update\n"
          ]
        }
      ],
      "source": [
        "#UPDATE pauta set examerec = Null where estudante_id = '04.1106.2019' AND disciplina_id= 'UP_ESCOG_M1_402_A_06' AND turma_id = '2023_2_761_4_04_02_1_741A_008' AND docente = '05956';\n",
        "#UPDATE pauta set resultado_final = 'Participou' where estudante_id = '04.1106.2019' AND disciplina_id= 'UP_ESCOG_M1_402_A_06' AND turma_id = '2023_2_761_4_04_02_1_741A_008' AND docente = '05956';\n",
        "cmd_sql('ALTER TABLE pauta DISABLE TRIGGER trg_pauta_bu')\n",
        "cmd_sql(f\"UPDATE pauta set  teste2 = Null where estudante_id='{estudante}' and disciplina_id = '{disciplina}' and turma_id = '{turma}'\")\n",
        "cmd_sql('ALTER TABLE pauta ENABLE TRIGGER trg_pauta_bu')"
      ]
    },
    {
      "cell_type": "code",
      "execution_count": null,
      "metadata": {
        "colab": {
          "base_uri": "https://localhost:8080/"
        },
        "id": "C7NmLOLoUR_8",
        "outputId": "8e9900ce-dd58-4db0-ec3e-baf7d21a87ce"
      },
      "outputs": [
        {
          "name": "stdout",
          "output_type": "stream",
          "text": [
            "(Sucesso) SQL Update\n"
          ]
        }
      ],
      "source": [
        "#Habilita as TRIGGERs key_check_on e audit_actions\n",
        "cmd_sql(\"ALTER TABLE pauta ENABLE TRIGGER key_check_on, ENABLE TRIGGER audit_actions\")"
      ]
    },
    {
      "cell_type": "markdown",
      "metadata": {
        "id": "h2-VshyTmlVD"
      },
      "source": [
        "##try pauta"
      ]
    },
    {
      "cell_type": "code",
      "execution_count": null,
      "metadata": {
        "id": "IzQG75sumpMR"
      },
      "outputs": [],
      "source": [
        "#SELECT e.nomes, p.estudante_id, p.teste1, p.teste2, p.teste3, p.trab1, p.trab2, p.trab3, p.mediafreq, p.examenormal, p.examerec, p.mediafinal, p.resultado_final, p.last_update_nota\n",
        "#FROM pauta p INNER JOIN estudante e ON e.id = p.estudante_id\n",
        "#WHERE disciplina_id= 'UP_ESCOG_M1_402_A_06' AND turma_id = '2023_2_761_4_04_02_1_741A_008' ORDER BY estudante_id ASC;\n",
        "def print_pauta(teste1, teste2, teste3):\n",
        "  sql_cmd =f\"'UNION+SELECT+e.nomes,p.estudante_id,{teste1},null,{teste2},{teste3},null,null,null+FROM+pauta p INNER JOIN estudante e ON e.id = p.estudante_id WHERE disciplina_id= '{disciplina}' AND turma_id = '{turma}';--\"\n",
        "  lista = SELECT(sql_cmd)\n",
        "  return lista\n",
        "\n",
        "i = 1\n",
        "disciplina = f\"{Content[i]['disciplina_id']}\"\n",
        "turma = f\"{Content[i]['turma_id']}\"\n",
        "pauta_lst = print_pauta('null', 'teste2', 'teste1')\n",
        "pauta_lst"
      ]
    },
    {
      "cell_type": "code",
      "execution_count": null,
      "metadata": {
        "id": "X1tDLwf4aGzt"
      },
      "outputs": [],
      "source": [
        "sql_cmd =f\"'UNION+SELECT+id,null,null,null,null,null,null,null,null+FROM+estudante WHERE ano_ingresso= '2024' AND curso_id = '00220';--\"\n",
        "SELECT(sql_cmd)"
      ]
    },
    {
      "cell_type": "code",
      "execution_count": null,
      "metadata": {
        "id": "MKEGkK5IxvHY"
      },
      "outputs": [],
      "source": [
        "from tabulate import tabulate\n",
        "\n",
        "# Definindo a lista\n",
        "pauta_lst = print_pauta('teste1', 'trab1', 'trab2')\n",
        "\n",
        "#Convertendo a lista em tabela\n",
        "tabela = tabulate(pauta_lst, headers=[\"Nome\", \"Estudante_id\", \"Teste 1\", \"Teste 2\"], tablefmt=\"grid\")\n",
        "print(tabela)"
      ]
    },
    {
      "cell_type": "code",
      "execution_count": null,
      "metadata": {
        "id": "f95PRx7FyxFV"
      },
      "outputs": [],
      "source": [
        "import pandas as pd\n",
        "\n",
        "# Definindo a lista\n",
        "pauta_lst = print_pauta('teste1', 'trab1', 'trab2')\n",
        "\n",
        "# Criando um DataFrame\n",
        "df = pd.DataFrame(data=[pauta_lst[i:i+4] for i in range(0, len(pauta_lst), 4)],\n",
        "                 columns=[\"Nome\", \"Estudante_id\", \"Teste 1\", \"Teste 2\"])\n",
        "\n",
        "# Imprimindo a tabela\n",
        "print(df.to_string())"
      ]
    },
    {
      "cell_type": "code",
      "execution_count": null,
      "metadata": {
        "id": "eYBfDhRVMdCC"
      },
      "outputs": [],
      "source": [
        "def SELECT_PAUTA(consulta):\n",
        "\n",
        "  data = f\"inicio=0&id=&nome=&campus=&curso={consulta};--\"\n",
        "\n",
        "  response = requests.post(\n",
        "      f'https://{host}/edondzo/view/estudante_lista.php',\n",
        "      cookies=cookies,\n",
        "      headers=headers,\n",
        "      data=data,\n",
        "      verify=False,\n",
        "  )\n",
        "  soup = BeautifulSoup(response.text, \"html.parser\")\n",
        "  p_tag = soup.find_all('td')\n",
        "  #print(soup)\n",
        "  dados = []\n",
        "  for p in p_tag:\n",
        "    if p.getText() != '':\n",
        "        dados.append(p.getText())\n",
        "\n",
        "  del dados[-1]\n",
        "\n",
        "  try:\n",
        "    #print(type(dados))\n",
        "    return dados\n",
        "  except Exception as e:\n",
        "    print('Log:', e)"
      ]
    },
    {
      "cell_type": "code",
      "execution_count": null,
      "metadata": {
        "colab": {
          "base_uri": "https://localhost:8080/"
        },
        "id": "Nij6JWWMoAeD",
        "outputId": "c6645562-35b3-42a4-f93c-0e66974e093b"
      },
      "outputs": [
        {
          "data": {
            "text/plain": [
              "[]"
            ]
          },
          "execution_count": 12,
          "metadata": {},
          "output_type": "execute_result"
        }
      ],
      "source": [
        "#sql_cmd =f\"'UNION+SELECT+e.nomes,p.estudante_id,teste1,null,teste2,teste3,null,null,null+FROM+pauta p INNER JOIN estudante e ON e.id = p.estudante_id WHERE disciplina_id= '{disciplina}' AND turma_id = '{turma}';--\"\n",
        "sql_cmd =f\"'UNION+SELECT+'nomes','estudante_id','teste1',null,'teste2','teste3',null,null,null+FROM+pauta p INNER JOIN estudante e ON e.id = p.estudante_id WHERE disciplina_id= 'UP_XX_102_A_04' AND turma_id = '2022_1_721_2_06_01_1_008';--\"\n",
        "lista = SELECT_PAUTA(sql_cmd)\n",
        "lista"
      ]
    },
    {
      "cell_type": "markdown",
      "metadata": {
        "id": "6Hk1zEUJkl8k"
      },
      "source": [
        "##imprime pauta relatorio"
      ]
    },
    {
      "cell_type": "code",
      "execution_count": null,
      "metadata": {
        "id": "Fpl2TlDAWF39"
      },
      "outputs": [],
      "source": [
        "import requests\n",
        "\n",
        "cookies = {\n",
        "    '_ga': 'GA1.3.1878032596.1702583743',\n",
        "    'PHPSESSID': '2bsbelgkt1r0nfvok2i3k2ut49',\n",
        "    'twk_uuid_583f2e9e4160416f6d9678a7': '%7B%22uuid%22%3A%221.6AqqI3Y7axOheDs15X5S0uHMRLKDQGueGSfmFDOUa4HGFBSsNMXCyb75LuaZRiRhdCQPcVEDnZwza8DVCjB2YM9R8OXJxMEHrJcFFx1H72d6T9mG%22%2C%22version%22%3A3%2C%22domain%22%3A%22up.ac.mz%22%2C%22ts%22%3A1708937879481%7D',\n",
        "    '_gid': 'GA1.3.1271892707.1709402741',\n",
        "    'TawkConnectionTime': '0',\n",
        "    'twk_uuid_587de8aa1855346ccc7c3a04': '%7B%22uuid%22%3A%221.6Aqi7EKIjNgiMmmBplN4DXLsRiAeWDybrno7DvIaZHv8r2Z1xY7Qc9a2v0NeeHpgYGKeYaK0AlpyB1a7tZbZZfguOGcu2H9lMGzi0c45hePrdoQf%22%2C%22version%22%3A3%2C%22domain%22%3A%22up.ac.mz%22%2C%22ts%22%3A1709402842532%7D',\n",
        "}\n",
        "\n",
        "headers = {\n",
        "    'Host': 'sigeur.up.ac.mz',\n",
        "    # 'Content-Length': '129',\n",
        "    'Cache-Control': 'max-age=0',\n",
        "    'Sec-Ch-Ua': '\"Chromium\";v=\"119\", \"Not?A_Brand\";v=\"24\"',\n",
        "    'Sec-Ch-Ua-Mobile': '?0',\n",
        "    'Sec-Ch-Ua-Platform': '\"Windows\"',\n",
        "    'Upgrade-Insecure-Requests': '1',\n",
        "    'User-Agent': 'Mozilla/5.0 (Windows NT 10.0; Win64; x64) AppleWebKit/537.36 (KHTML, like Gecko) Chrome/119.0.6045.199 Safari/537.36',\n",
        "    'Origin': 'https://sigeur.up.ac.mz',\n",
        "    'Content-Type': 'application/x-www-form-urlencoded',\n",
        "    'Accept': 'text/html,application/xhtml+xml,application/xml;q=0.9,image/avif,image/webp,image/apng,*/*;q=0.8,application/signed-exchange;v=b3;q=0.7',\n",
        "    'Sec-Fetch-Site': 'same-origin',\n",
        "    'Sec-Fetch-Mode': 'navigate',\n",
        "    'Sec-Fetch-User': '?1',\n",
        "    'Sec-Fetch-Dest': 'document',\n",
        "    'Referer': 'https://sigeur.up.ac.mz/sigeup/portal.php',\n",
        "    # 'Accept-Encoding': 'gzip, deflate, br',\n",
        "    'Accept-Language': 'pt-PT,pt;q=0.9,en-US;q=0.8,en;q=0.7',\n",
        "    'Priority': 'u=0, i',\n",
        "    'Connection': 'close',\n",
        "    # 'Cookie': '_ga=GA1.3.1878032596.1702583743; PHPSESSID=2bsbelgkt1r0nfvok2i3k2ut49; twk_uuid_583f2e9e4160416f6d9678a7=%7B%22uuid%22%3A%221.6AqqI3Y7axOheDs15X5S0uHMRLKDQGueGSfmFDOUa4HGFBSsNMXCyb75LuaZRiRhdCQPcVEDnZwza8DVCjB2YM9R8OXJxMEHrJcFFx1H72d6T9mG%22%2C%22version%22%3A3%2C%22domain%22%3A%22up.ac.mz%22%2C%22ts%22%3A1708937879481%7D; _gid=GA1.3.1271892707.1709402741; TawkConnectionTime=0; twk_uuid_587de8aa1855346ccc7c3a04=%7B%22uuid%22%3A%221.6Aqi7EKIjNgiMmmBplN4DXLsRiAeWDybrno7DvIaZHv8r2Z1xY7Qc9a2v0NeeHpgYGKeYaK0AlpyB1a7tZbZZfguOGcu2H9lMGzi0c45hePrdoQf%22%2C%22version%22%3A3%2C%22domain%22%3A%22up.ac.mz%22%2C%22ts%22%3A1709402842532%7D',\n",
        "}\n",
        "\n",
        "data = {\n",
        "    'docente': '05406',\n",
        "    'disciplina': 'UP_ESCOG_ECO_201_A_04',\n",
        "    'nome_disciplina': 'Contabilidade Analítica',\n",
        "    'turma': '2023_2_721_2_06_01_1_008',\n",
        "    'tipo': '1',\n",
        "}\n",
        "\n",
        "response = requests.post(\n",
        "    'https://sigeur.up.ac.mz/sigeup/reports/pauta_oficial.php',\n",
        "    cookies=cookies,\n",
        "    headers=headers,\n",
        "    data=data,\n",
        "    verify=False,\n",
        ")\n"
      ]
    },
    {
      "cell_type": "code",
      "execution_count": null,
      "metadata": {
        "colab": {
          "base_uri": "https://localhost:8080/"
        },
        "id": "Aq0koKgobZZM",
        "outputId": "4dbed29b-6741-4ac2-b7c3-12f08d0090f1"
      },
      "outputs": [
        {
          "name": "stdout",
          "output_type": "stream",
          "text": [
            "Collecting PyPDF2\n",
            "  Downloading pypdf2-3.0.1-py3-none-any.whl (232 kB)\n",
            "\u001b[?25l     \u001b[90m━━━━━━━━━━━━━━━━━━━━━━━━━━━━━━━━━━━━━━━━\u001b[0m \u001b[32m0.0/232.6 kB\u001b[0m \u001b[31m?\u001b[0m eta \u001b[36m-:--:--\u001b[0m\r\u001b[2K     \u001b[91m━━━━━━━━━━━━━━━━━━━━━━━━━━━━━\u001b[0m\u001b[91m╸\u001b[0m\u001b[90m━━━━━━━━━━\u001b[0m \u001b[32m174.1/232.6 kB\u001b[0m \u001b[31m5.1 MB/s\u001b[0m eta \u001b[36m0:00:01\u001b[0m\r\u001b[2K     \u001b[90m━━━━━━━━━━━━━━━━━━━━━━━━━━━━━━━━━━━━━━━━\u001b[0m \u001b[32m232.6/232.6 kB\u001b[0m \u001b[31m4.6 MB/s\u001b[0m eta \u001b[36m0:00:00\u001b[0m\n",
            "\u001b[?25hInstalling collected packages: PyPDF2\n",
            "Successfully installed PyPDF2-3.0.1\n"
          ]
        }
      ],
      "source": [
        "!pip install PyPDF2"
      ]
    },
    {
      "cell_type": "code",
      "execution_count": null,
      "metadata": {
        "colab": {
          "base_uri": "https://localhost:8080/"
        },
        "id": "XWUcPeVRa9SW",
        "outputId": "91469d8c-2781-492f-a87a-97cf0321bf23"
      },
      "outputs": [
        {
          "name": "stdout",
          "output_type": "stream",
          "text": [
            "UNIVERSIDADE ROVUMA\n",
            "Faculdade de Economia e Gestão\n",
            "Departamento de Economia e Gestão\n",
            "Curso de Licenciatura em Economia\n",
            "Disciplina: Contabilidade Analítica\n",
            "Plano: PLANO B\n",
            "Ano Lectivo: 2023Semestre: 2Ano: 2Turma: 1Créditos: ___Regime: Laboral\n",
            "Docente: LUCIA ROSáRIO PULIVEIRA\n",
            "* M.HC: Média da avaliação das Horas de Contacto = 75%\r\n",
            "        M.HEI: Média da avaliação das Horas de Estudo Independente = 25%\r\n",
            "        M.F: Média de Frequência = 75%\n",
            "*NOTAS DE FREQUÊNCIA EXAME Nota Resultado\n",
            "N.ºNº Estudante Nome do Estudante M.HCM.HEI M.F Resultado Nor RecFinal Final\n",
            "106.1402.2022 AINA JUMA 131113Admitido       11.5 13Aprovado\n",
            "206.1404.2022 AMINA SALIMO GELANE 161416Dispensado     16Aprovado\n",
            "306.2300.2022 ANCHA ABIBE MAHADAL 101110Admitido       11 10Aprovado\n",
            "406.1405.2022 ANDRE AMARAL SANTOMEIO 141113Admitido       710.512Aprovado\n",
            "506.1406.2022 BERNARDO LUIS JUNIOR 101010Admitido       6.54.5 Reprovado\n",
            "606.2189.2022 CATIANA ALFREDO 111412Admitido       3.5 1012Aprovado\n",
            "706.2190.2022 CHAQUILA MAHAMUDO ABDALA 101010Admitido       4 Reprovado\n",
            "806.1409.2022 CLEIDE AUGUSTO SOZINHO 3136Excluido       Reprovado\n",
            "906.0657.2021 CLEITON MARIO MARIO SULVAI 111211Admitido       6.511.511Aprovado\n",
            "1006.1272.2021 DANILO ACáCIO XAVIER 5127Excluido       Reprovado\n",
            "1106.1410.2022 DARIO DAUDA MOISES 131013Admitido       13.5 13Aprovado\n",
            "1206.2283.2022 EDMA PEDRO MUPA 111311Admitido       4.510.511Aprovado\n",
            "1306.1296.2021 ELíSIO ALBANO MUTESSA 91210Admitido       8.25 1010Aprovado\n",
            "1406.1412.2022 EUGENIO CARLOS ALBERTO 111010Admitido       74.5 Reprovado\n",
            "1506.2153.2022 FELECIANO HORACIO DANIEL 2114Excluido       Reprovado\n",
            "1606.1413.2022 FLORêNCIO LOURENçO 111311Admitido       0.513.512Aprovado\n",
            "1706.1414.2022 GENITO AVELINO JOAO 161616Dispensado     16Aprovado\n",
            "1806.1115.2021 GRAçA AFONSO CAOLE 5127Excluido       Reprovado\n",
            "1906.2260.2022 HUGO JOAO BAPTISTA 111011Admitido       610.511Aprovado\n",
            "2006.1415.2022 INES ALTAF OSSUMANE 101010Admitido       13.511Aprovado\n",
            "2106.1417.2022 IVAN SULEMANGI 0133Excluido       Reprovado\n",
            "2206.2035.2022 JOMAX DA G PAULINO CARLOS 101110Admitido       2.5 1010Aprovado\n",
            "2306.0669.2021 JOSE ELISIO MACARIO 101010Admitido       10 10Aprovado\n",
            "2406.2154.2022 LEYLA FERNANDA N DINALA 121312Admitido       31012Aprovado\n",
            "2506.2155.2022 LIBRA DA ZAINABO SUALE OSSUFO 131313Admitido       12.5 13Aprovado\n",
            "2606.1418.2022 LUDUVINA ALFREDO RAUNDE 161516Dispensado     16Aprovado\n",
            "2706.1419.2022 MARINA DE LURDES MARTINHO 161516Dispensado     16Aprovado\n",
            "2806.1421.2022 MIRIAM MACHUDE 121112Admitido       11 12Aprovado\n",
            "2906.2157.2022 NUNO EUFRASIO MARTINS 101110Admitido       6.5 4 Reprovado\n",
            "3006.1424.2022 ORLANDA DA CONCEICAO FERNANDO MESSIAS 101110Admitido       10 10Aprovado\n",
            "3106.1425.2022 OSVALDO ELDITO VICTORINO VIEIRA 7108Excluido       Reprovado\n",
            "3206.1426.2022 RIVER JACOB ANTONIO 101110Admitido       62 Reprovado\n",
            "3306.2158.2022 ROSA DA RITA MARIA JOSé 101010Admitido       10 10Aprovado\n",
            "Pag. 1 de 3Documento processado por computador\n"
          ]
        }
      ],
      "source": [
        "import PyPDF2\n",
        "def read_response_pdf():\n",
        "\n",
        "    # Extrair o conteúdo da resposta\n",
        "    pdf_content = response.content\n",
        "\n",
        "    # Salvar o conteúdo em um arquivo PDF\n",
        "    with open(\"resposta.pdf\", \"wb\") as f:\n",
        "        f.write(pdf_content)\n",
        "\n",
        "    # Abrir o arquivo PDF\n",
        "    pdf_reader = PyPDF2.PdfReader(\"resposta.pdf\")\n",
        "\n",
        "    # Obter o número de páginas\n",
        "    num_pages = len(pdf_reader.pages)\n",
        "\n",
        "    # Extrair o texto da primeira página\n",
        "    page_object = pdf_reader.pages[0]\n",
        "    text = page_object.extract_text()\n",
        "\n",
        "    # Imprimir o texto\n",
        "    print(text)\n",
        "\n",
        "read_response_pdf()"
      ]
    },
    {
      "cell_type": "markdown",
      "metadata": {
        "id": "2yO_CXNeMaB8"
      },
      "source": [
        "#Conta corrente"
      ]
    },
    {
      "cell_type": "code",
      "execution_count": null,
      "metadata": {
        "colab": {
          "base_uri": "https://localhost:8080/"
        },
        "id": "kaB39JqZMehe",
        "outputId": "17d02894-fc24-434a-96d4-6cf0b7ae58c3"
      },
      "outputs": [
        {
          "output_type": "stream",
          "name": "stdout",
          "text": [
            "['1240.00']\n"
          ]
        }
      ],
      "source": [
        "estudante_id = '05.0001.2008'\n",
        "#06.0439.2019\n",
        "sum_debito(years=list(range(int(estudante_id[8:]),2025)), estudante_id=estudante_id)"
      ]
    },
    {
      "cell_type": "code",
      "execution_count": null,
      "metadata": {
        "colab": {
          "base_uri": "https://localhost:8080/"
        },
        "id": "QuovYJv2-BLT",
        "outputId": "af60fc1c-bf65-4e41-b5ce-746e8be53ff3"
      },
      "outputs": [
        {
          "name": "stdout",
          "output_type": "stream",
          "text": [
            "[2013, 2014, 2015, 2016, 2017, 2018, 2019, 2020, 2021, 2022]\n"
          ]
        }
      ],
      "source": [
        "print(list(range(2013, 2023)))"
      ]
    },
    {
      "cell_type": "code",
      "execution_count": null,
      "metadata": {
        "id": "TICF8XGX09FD"
      },
      "outputs": [],
      "source": [
        "#sql_cmd =f\"'UNION+SELECT+CAST(SUM(debito) AS VARCHAR),null,null,null,null,null,null,null,null+FROM conta_corrente WHERE extract(year from data_debito) in {tuple(years)} AND extract(month from data_debito) <= 12 AND upper(estudante_id) = '{estudante_id}' AND CAST(credito AS varchar) != CAST(debito AS varchar);--\"\n",
        "#years=['2023', '2024']\n",
        "consulta = f\"'UNION+SELECT+column_name,null,null,null,null,null,null,null,null+FROM information_schema.columns WHERE table_name='conta_corrente';--\"\n",
        "SELECT(consulta)"
      ]
    },
    {
      "cell_type": "code",
      "execution_count": null,
      "metadata": {
        "colab": {
          "base_uri": "https://localhost:8080/"
        },
        "id": "078GW-hrXac0",
        "outputId": "bc9b379f-26a0-4abb-b6b1-a502e8f4ad5b"
      },
      "outputs": [
        {
          "output_type": "execute_result",
          "data": {
            "text/plain": [
              "['00000000000006857194', '00000000000006087399', '00000000000006213724']"
            ]
          },
          "metadata": {},
          "execution_count": 39
        }
      ],
      "source": [
        "propids = getListProp(years=list(range(int(estudante_id[8:]),2025)), estudante_id=estudante_id) #set h ='historico', , value=True\n",
        "propids"
      ]
    },
    {
      "cell_type": "code",
      "execution_count": null,
      "metadata": {
        "id": "cPZV1u5ZNPyO"
      },
      "outputs": [],
      "source": [
        "\"\"\"propids = ['00000000000006827616',\n",
        " '00000000000006809658',\n",
        " '00000000000006852108',\n",
        " '00000000000006832718',\n",
        " '00000000000006838659',\n",
        " '00000000000006809655',\n",
        " '00000000000006820032',\n",
        " '00000000000006855564',\n",
        " '00000000000006809656',\n",
        " '00000000000006809659',\n",
        " '00000000000006817706',\n",
        " '00000000000006824927',\n",
        " '00000000000006830002',\n",
        " '00000000000006841969',\n",
        " '00000000000006809657',\n",
        " '00000000000006835595',\n",
        " '00000000000006845279',\n",
        " '00000000000006822221',\n",
        " '00000000000006848652']\n",
        "\n",
        " estudante_id = '05.0509.2020'\n",
        "  ['00000000000006201700',\n",
        " '00000000000006201697',\n",
        " '00000000000006201699',\n",
        " '00000000000006201698',\n",
        " '00000000000006201701']\n",
        "\n",
        " estudante_id = '04.0073.2022'\n",
        " ['00000000000006129998',\n",
        " '00000000000006129999',\n",
        " '00000000000006130000',\n",
        " '00000000000006129996',\n",
        " '00000000000006129997']\n",
        "\n",
        " estudante_id = '07.0057.2013'\n",
        " ['00000000000005906614',\n",
        " '00000000000005906618',\n",
        " '00000000000005906616',\n",
        " '00000000000005906615',\n",
        " '00000000000005906617']\n",
        "\n",
        " estudante_id = '07.0505.2021'\n",
        " ['00000000000006798263',\n",
        " '00000000000006798260',\n",
        " '00000000000006798261',\n",
        " '00000000000006798259',\n",
        " '00000000000006798262']\n",
        "\n",
        "\n",
        " ['00000000000006883080',\n",
        " 'Propina Julho 2024',\n",
        " '00000000000006903629',\n",
        " '3ª Multa da Propina Abril 2024',\n",
        " '00000000000006891298',\n",
        " '1ª Multa da Propina Março 2024',\n",
        " '00000000000006893962',\n",
        " '2ª Multa da Propina Março 2024',\n",
        " '00000000000006883078',\n",
        " 'Propina Abril 2024',\n",
        " '00000000000006934262',\n",
        " '2ª Multa da Propina Maio de 2024',\n",
        " '00000000000006926824',\n",
        " '3ª Multa da Propina Junho 2024',\n",
        " '00000000000006883077',\n",
        " 'Propina Junho 2024',\n",
        " '00000000000006901134',\n",
        " '2ª Multa da Propina Abril 2024',\n",
        " '00000000000006907353',\n",
        " '1ª Multa da Propina Julho 2024',\n",
        " '00000000000006089807',\n",
        " '1ª Multa da Propina Julho 2021',\n",
        " '00000000000006911260',\n",
        " '2ª Multa da Propina Julho 2024',\n",
        " '00000000000006922940',\n",
        " '2ª Multa da Propina Junho 2024',\n",
        " '00000000000006896174',\n",
        " '3ª Multa da Propina Março 2024',\n",
        " '00000000000006930561',\n",
        " '1ª Multa da Propina Maio de 2024',\n",
        " '00000000000006883079',\n",
        " 'Propina Maio de 2024',\n",
        " '00000000000006075202',\n",
        " '1ª Multa da Propina Junho 2021',\n",
        " '00000000000006937963',\n",
        " '3ª Multa da Propina Maio de 2024',\n",
        " '00000000000006898639',\n",
        " '1ª Multa da Propina Abril 2024',\n",
        " '00000000000006883081',\n",
        " 'Propina Março 2024',\n",
        " '00000000000006915167',\n",
        " '3ª Multa da Propina Julho 2024',\n",
        " '00000000000006919056',\n",
        " '1ª Multa da Propina Junho 2024']\"\"\"\n",
        "\n",
        "\n",
        "\n",
        "#['19065.00'], estudante_id = '07.0363.2021'\n",
        "propids = ['00000000000006930561']"
      ]
    },
    {
      "cell_type": "code",
      "execution_count": null,
      "metadata": {
        "colab": {
          "base_uri": "https://localhost:8080/"
        },
        "id": "4WgCYh__ucer",
        "outputId": "98a18d79-feb0-4c70-b370-c5f6d9a9bd0b"
      },
      "outputs": [
        {
          "name": "stdout",
          "output_type": "stream",
          "text": [
            "16740\n"
          ]
        }
      ],
      "source": [
        "print(5580*3)"
      ]
    },
    {
      "cell_type": "code",
      "execution_count": null,
      "metadata": {
        "colab": {
          "base_uri": "https://localhost:8080/"
        },
        "id": "KgAP6xzRa8M4",
        "outputId": "b0086551-9479-4cde-b703-98d5ffdc9c2f"
      },
      "outputs": [
        {
          "output_type": "stream",
          "name": "stdout",
          "text": [
            "(Sucesso) SQL Update\n",
            "Inserindo dados de recibo:  00000000000006857194\n",
            "(Sucesso) SQL Update\n",
            "Inserindo dados na tabela recebimento (comando unico):  00000000000006857194\n",
            "(Sucesso) SQL Update\n",
            "Inserindo dados de recibo:  00000000000006087399\n",
            "(Sucesso) SQL Update\n",
            "Inserindo dados na tabela recebimento (comando unico):  00000000000006087399\n",
            "(Erro ao gravar) SQL Update: ['Imposs\\\\u00edvel eliminar INSTITUI\\\\u00c7\\\\u00c3O:<\\\\/h4>SQLSTATE[23505]: Unique violation: 7 ERROR:  duplicate key value violates unique constraint \\\\\"recebimento_pk\\\\\"\\\\nDETAIL:  Key (id)=(20230000000007389240 ) already exists. \\\\r\\\\n                      <\\\\/div>\"']\n",
            "Inserindo dados de recibo:  00000000000006213724\n",
            "(Sucesso) SQL Update\n",
            "Inserindo dados na tabela recebimento (comando unico):  00000000000006213724\n",
            "(Sucesso) SQL Update\n",
            "(Sucesso) SQL Update\n"
          ]
        }
      ],
      "source": [
        "year = '2024'\n",
        "#estudante_id = '08.0189.2015'\n",
        "cmd_sql(\"ALTER TABLE recibo DISABLE TRIGGER key_check_on, DISABLE TRIGGER audit_actions\")\n",
        "for pid in propids:\n",
        "  update_conta_corrente(pid, estudante_id, year, '1')\n",
        "cmd_sql(\"ALTER TABLE recibo ENABLE TRIGGER key_check_on, ENABLE TRIGGER audit_actions\")"
      ]
    },
    {
      "cell_type": "code",
      "execution_count": null,
      "metadata": {
        "id": "oAhCftr4tQ5A"
      },
      "outputs": [],
      "source": [
        "valida_props(year, estudante_id, propids)"
      ]
    },
    {
      "cell_type": "code",
      "execution_count": null,
      "metadata": {
        "colab": {
          "base_uri": "https://localhost:8080/"
        },
        "id": "sSdt_Mjubxtv",
        "outputId": "035be7c9-78f5-461a-cfa9-e5010021c511"
      },
      "outputs": [
        {
          "output_type": "stream",
          "name": "stdout",
          "text": [
            "(Sucesso) SQL Update\n",
            "(Sucesso) SQL Update\n",
            "Pedido executado com sucesso, Mensalidades validadas com Sucesso!\n",
            "(Sucesso) SQL Update\n"
          ]
        }
      ],
      "source": [
        "year = '2024'\n",
        "cmd_sql(\"ALTER TABLE conta_corrente DISABLE TRIGGER key_check_on, DISABLE TRIGGER audit_actions;\")\n",
        "valida_props(year, estudante_id, propids)\n",
        "cmd_sql(\"ALTER TABLE conta_corrente ENABLE TRIGGER key_check_on, ENABLE TRIGGER audit_actions\")"
      ]
    },
    {
      "cell_type": "markdown",
      "metadata": {
        "id": "WE0aWZU-Aqxq"
      },
      "source": [
        "#Pagamento de Emolumentos"
      ]
    },
    {
      "cell_type": "code",
      "execution_count": null,
      "metadata": {
        "colab": {
          "base_uri": "https://localhost:8080/",
          "height": 35
        },
        "id": "SjGQa7qD4f9B",
        "outputId": "29668f92-34b3-4026-a4d9-804ca731f465"
      },
      "outputs": [
        {
          "data": {
            "application/vnd.google.colaboratory.intrinsic+json": {
              "type": "string"
            },
            "text/plain": [
              "'20201100000004660645'"
            ]
          },
          "execution_count": 12,
          "metadata": {},
          "output_type": "execute_result"
        }
      ],
      "source": [
        "sql_cmd =f\"'UNION+SELECT+null,null,null,null,null,max(recibo_id),null,null,null+FROM+pagamento_online\"\n",
        "seq_recibo_id = SELECT(sql_cmd)[0]\n",
        "seq_recibo_id"
      ]
    },
    {
      "cell_type": "code",
      "execution_count": null,
      "metadata": {
        "colab": {
          "base_uri": "https://localhost:8080/"
        },
        "id": "63rcuUu_7Rf3",
        "outputId": "4b896b99-fffb-4765-80f5-88503ed57c19"
      },
      "outputs": [
        {
          "data": {
            "text/plain": [
              "20201100000004660645"
            ]
          },
          "execution_count": 13,
          "metadata": {},
          "output_type": "execute_result"
        }
      ],
      "source": [
        "int(seq_recibo_id)"
      ]
    },
    {
      "cell_type": "code",
      "execution_count": null,
      "metadata": {
        "id": "TLs_QHozAwa8"
      },
      "outputs": [],
      "source": [
        "def pagamento_emolumentos(estudante_id,seq_recibo_id,ent,ref):\n",
        "  cmd_sql(f\"UPDATE pagamento_online set pago='1' where estudante_id='{estudante_id}' and entidade='{ent}' and referencia='{ref}' and pago='0'\")\n",
        "  cmd_sql(f\"UPDATE pagamento_online set recibo_id='{int(seq_recibo_id)+1}' where estudante_id='{estudante_id}' and entidade='{ent}' and referencia='{ref}' and pago='0'\")"
      ]
    },
    {
      "cell_type": "code",
      "execution_count": null,
      "metadata": {
        "id": "HMQkXEh64--A"
      },
      "outputs": [],
      "source": [
        "estudante_id = '06.0992.2020' #input('Estudante Id: ')\n",
        "ent = '88041' #input('Entidade: ')\n",
        "ref = '03329183013' #input('Referencia: ')"
      ]
    },
    {
      "cell_type": "code",
      "execution_count": null,
      "metadata": {
        "colab": {
          "base_uri": "https://localhost:8080/"
        },
        "id": "18bauGQz7E7T",
        "outputId": "d56b55ad-d447-40a8-a5e6-8b4e252f02e5"
      },
      "outputs": [
        {
          "name": "stdout",
          "output_type": "stream",
          "text": [
            "(Sucesso) SQL Update\n",
            "(Sucesso) SQL Update\n"
          ]
        }
      ],
      "source": [
        "pagamento_emolumentos(estudante_id,seq_recibo_id,ent,ref)"
      ]
    },
    {
      "cell_type": "code",
      "execution_count": null,
      "metadata": {
        "id": "9po9E5CdzXuy"
      },
      "outputs": [],
      "source": [
        "20201100000004660646"
      ]
    },
    {
      "cell_type": "markdown",
      "metadata": {
        "id": "epytdIZ3e9le"
      },
      "source": [
        "# pesquisa permissao"
      ]
    },
    {
      "cell_type": "markdown",
      "metadata": {
        "id": "pDdBSwm5gN-7"
      },
      "source": [
        "1. Pesquisar pelo id do menu\n",
        "2. pesquisar pelo id de permissao de acordo com o id do menu\n",
        "3. pesquisar pelo id perfil correspondente\n",
        "4. pesqusar pelos usuarios com o id do perfil"
      ]
    },
    {
      "cell_type": "code",
      "execution_count": null,
      "metadata": {
        "id": "RtTuuKmNgyZ0"
      },
      "outputs": [],
      "source": [
        "#Pesquisar pelo id do menu\n",
        "sql_cmd =\"'UNION+SELECT+id,nome,null,null,null,null,null,null,null+FROM+menu\"\n",
        "result = SELECT(sql_cmd)\n",
        "print(result)"
      ]
    },
    {
      "cell_type": "code",
      "execution_count": null,
      "metadata": {
        "colab": {
          "base_uri": "https://localhost:8080/"
        },
        "id": "KJQe49RahIzx",
        "outputId": "84586dc4-9acf-4235-df1e-185797ba5d29"
      },
      "outputs": [
        {
          "name": "stdout",
          "output_type": "stream",
          "text": [
            "['407', 'Mudança de Regime', '405', 'Pesquisar Inscrição', '410', 'Pedido de Re-Ingresso', '404', 'Inscrição Exames Especiais', '408', 'Mudança de Turma', '419', 'Emissão de Declarações', '416', 'Cartão de Estudante', '409', 'Anulação Oficial da Inscrição', '421', 'Matrículas', '415', 'Gestão de Turmas', '420', 'Pesquisar Declarações', '403', 'Inscrição de Estudante', '401', 'Pesquisar Estudante', '411', 'Gestão das Notas Finais', '400', 'Registar Estudante', '418', 'Pesquisar Acta de Conclusão', '406', 'Mudança de Curso', '402', 'Gerir Estudante', '417', 'Emissão de Acta de Conclusão', '422', 'Validação de Pré-Inscrições']\n"
          ]
        }
      ],
      "source": [
        "#pesquisar pelo id de permissao de acordo com o id do menu\n",
        "sql_cmd =\"'UNION+SELECT+id,nome,null,null,null,null,null,null,null+FROM+permissao where menu_id = '04'\"\n",
        "result = SELECT(sql_cmd)\n",
        "print(result)"
      ]
    },
    {
      "cell_type": "code",
      "execution_count": null,
      "metadata": {
        "colab": {
          "base_uri": "https://localhost:8080/"
        },
        "id": "NMJbw_4jfE2M",
        "outputId": "11fa29ab-0bfa-4636-c797-223c224d877e"
      },
      "outputs": [
        {
          "name": "stdout",
          "output_type": "stream",
          "text": [
            "['035', '026', '011', '027', '009', '003', '007', '001', '037']\n"
          ]
        }
      ],
      "source": [
        "#pesquisar pelo id perfil correspondente\n",
        "sql_cmd =\"'UNION+SELECT+null,null,null,null,perfil_id,null,null,null,null+FROM+perfil_permissao+where+permissao_id = '421'\"\n",
        "result = SELECT(sql_cmd)\n",
        "print(result)"
      ]
    },
    {
      "cell_type": "code",
      "execution_count": null,
      "metadata": {
        "colab": {
          "base_uri": "https://localhost:8080/"
        },
        "id": "oQHKSzwefLLM",
        "outputId": "f73edf6a-3067-4ba7-8c0e-e684cf18af71"
      },
      "outputs": [
        {
          "data": {
            "text/plain": [
              "{'csengo': '183269001cc842dc5fd3c213c456d941',\n",
              " 'zjunior': '7002183387afa7c71d28138b95b146b8',\n",
              " 'rhramos': '9043cc3075dcb6dc22f36bdefd491b2f',\n",
              " 'fbcataua': '8b6bc13c4e85d0f549a65764fb8451c5',\n",
              " 'ssalvado': '7002183387afa7c71d28138b95b146b8',\n",
              " 'MaizerG': '518bdd128d467ae62fa157fbd73d39f8',\n",
              " 'emaria': '393a13187b2e56c88e161a5008294123'}"
            ]
          },
          "execution_count": 15,
          "metadata": {},
          "output_type": "execute_result"
        }
      ],
      "source": [
        "#pesqusar pelos usuarios com o id do perfil\n",
        "sql_cmd =\"'UNION+SELECT+id,senha,null,null,null,null,null,null,null+FROM+usuario+where+perfil_id in ('035', '026', '011', '027', '009', '003', '007', '001', '037') and activo = '1'\"\n",
        "users = list_to_dic(SELECT(sql_cmd))\n",
        "users"
      ]
    },
    {
      "cell_type": "markdown",
      "metadata": {
        "id": "CWwg7uaVhY8t"
      },
      "source": [
        "#User"
      ]
    },
    {
      "cell_type": "code",
      "execution_count": null,
      "metadata": {
        "id": "_qyuqZR1heIY"
      },
      "outputs": [],
      "source": [
        "#06.1779.2020\n",
        "#ef63cfaa21e84650368e9cd68c08ef2c\n",
        "#user = '06.2239.2024'\n",
        "def reset_senha(user):\n",
        "  cmd_sql(\"ALTER TABLE usuario DISABLE TRIGGER key_check_on, DISABLE TRIGGER audit_actions, DISABLE TRIGGER set_password\")\n",
        "  cmd_sql(f\"UPDATE usuario set senha = '{md5Hash(user)}' where id='{user}'\")\n",
        "  #cmd_sql(f\"UPDATE usuario set senha = 'ef63cfaa21e84650368e9cd68c08ef2c' where id='{user}'\")\n",
        "  cmd_sql(f\"UPDATE usuario set activo = '1' where id='{user}'\")\n",
        "  cmd_sql(\"ALTER TABLE usuario ENABLE TRIGGER key_check_on, ENABLE TRIGGER audit_actions, ENABLE TRIGGER set_password\")"
      ]
    },
    {
      "cell_type": "code",
      "execution_count": null,
      "metadata": {
        "colab": {
          "base_uri": "https://localhost:8080/"
        },
        "id": "eyoisUMbsuda",
        "outputId": "ee7c435c-5191-49cb-b087-3de75139e92d"
      },
      "outputs": [
        {
          "output_type": "stream",
          "name": "stdout",
          "text": [
            "Insira os usuario, separe com virgula: 06.0056.2022\n",
            "(Sucesso) SQL Update\n",
            "06.0056.2022\n",
            "(Sucesso) SQL Update\n",
            "(Sucesso) SQL Update\n",
            "(Sucesso) SQL Update\n"
          ]
        }
      ],
      "source": [
        "users = input(\"Insira os usuario, separe com virgula: \").split(\",\")\n",
        "for u in users:\n",
        "  reset_senha(u)"
      ]
    },
    {
      "cell_type": "code",
      "execution_count": null,
      "metadata": {
        "colab": {
          "base_uri": "https://localhost:8080/"
        },
        "id": "9SD7unoFhmmk",
        "outputId": "1274ed6c-432b-4342-c6c1-55611cb550a1"
      },
      "outputs": [
        {
          "output_type": "stream",
          "name": "stdout",
          "text": [
            "['63d02c1a38c64d450fbe2f40e8352fdb']\n"
          ]
        }
      ],
      "source": [
        "#SELECT e.activo estudante_a, u.activo user_a, u.senha FROM estudante e INNER JOIN usuario u ON u.id = e.id WHERE e.id = '06.1779.2020';\n",
        "sql_cmd =\"'UNION+SELECT+u.senha,null,null,null,null,null,null,null,null+FROM+usuario u WHERE id = 'tferreira'\"\n",
        "result = SELECT(sql_cmd)\n",
        "print(result)"
      ]
    },
    {
      "cell_type": "code",
      "execution_count": null,
      "metadata": {
        "colab": {
          "base_uri": "https://localhost:8080/"
        },
        "id": "CBdDIqSp0_hD",
        "outputId": "bc2e0552-e847-4467-d659-b91ace04b00a"
      },
      "outputs": [
        {
          "name": "stdout",
          "output_type": "stream",
          "text": [
            "2\n",
            "5\n"
          ]
        }
      ],
      "source": [
        "a = 2\n",
        "b = 5\n",
        "for i in [a, b]:\n",
        "  print(i)"
      ]
    },
    {
      "cell_type": "markdown",
      "metadata": {
        "id": "obsS-D_sRUO6"
      },
      "source": [
        "#Divida"
      ]
    },
    {
      "cell_type": "code",
      "execution_count": null,
      "metadata": {
        "colab": {
          "base_uri": "https://localhost:8080/"
        },
        "id": "XxwRwN3oRcM5",
        "outputId": "ee33b49f-9bcf-4971-840d-aa6c3afdeba9"
      },
      "outputs": [
        {
          "output_type": "stream",
          "name": "stdout",
          "text": [
            "['00000000000001623925', '2023', '1', '04373520171', '4550.00', '00000000000001612624', '2022', '2', '04270821216', '4550.00', '00000000000001556795', '2022', '1', '04011310157', '4550.00', '00000000000001422811', '2021', '1', '03690460179', '6350.00', '00000000000001494566', '2021', '2', '03690461262', '4550.00']\n"
          ]
        }
      ],
      "source": [
        "#consulta dividas de inscricao\n",
        "estudante_id = '06.0910.2020'\n",
        "sql_cmd =f\"'UNION+SELECT+i.id,CAST(i.ano_lectivo_id AS VARCHAR),null,null,CAST(i.semestre AS VARCHAR),null,i.referencia,CAST(i.valor as varchar),CAST(i.entidade AS VARCHAR)+FROM+inscricao i LEFT JOIN recibo r ON r.num_comprovativo = i.referencia WHERE i.estudante_id = '{estudante_id}' AND r.num_comprovativo IS NULL;\"\n",
        "result1 = SELECT(sql_cmd)\n",
        "print(result1)\n",
        "\n",
        "#consulta dividas de conta_corrente\n",
        "estudante_id = '06.2285.2017'\n",
        "sql_cmd =f\"'UNION+SELECT+c.id,CAST(c.referencia_bancaria AS VARCHAR),NULL,null,null,null,CAST(c.debito AS VARCHAR),null,null+FROM+conta_corrente c LEFT JOIN recibo r ON r.num_comprovativo = c.referencia_bancaria WHERE c.estudante_id = '{estudante_id}' AND r.num_comprovativo IS NULL;\"\n",
        "#result = SELECT(sql_cmd)\n",
        "#print(result)"
      ]
    },
    {
      "cell_type": "code",
      "source": [
        "def getRef(ano, semestre):\n",
        "  sql_cmd =f\"'UNION+SELECT+i.referencia,null,null,null,null,null,null,null,null+FROM+inscricao i LEFT JOIN recibo r ON r.num_comprovativo = i.referencia WHERE i.ano_lectivo_id = '{ano}' and i.semestre = '{semestre}' and r.num_comprovativo IS NULL;\"\n",
        "  result1 = SELECT(sql_cmd)\n",
        "  if result1:\n",
        "    return result1[0]\n",
        "getRef('2022', '1')"
      ],
      "metadata": {
        "colab": {
          "base_uri": "https://localhost:8080/",
          "height": 35
        },
        "id": "bmHg2_rzn1Hw",
        "outputId": "c7027c19-2a2d-4658-9eb5-497b690eda9d"
      },
      "execution_count": null,
      "outputs": [
        {
          "output_type": "execute_result",
          "data": {
            "text/plain": [
              "'04011310157'"
            ],
            "application/vnd.google.colaboratory.intrinsic+json": {
              "type": "string"
            }
          },
          "metadata": {},
          "execution_count": 88
        }
      ]
    },
    {
      "cell_type": "code",
      "source": [
        "def update_value(id, value = 4550):\n",
        "  cmd_sql(\"ALTER TABLE inscricao DISABLE TRIGGER key_check_on, DISABLE TRIGGER audit_actions\")\n",
        "  cmd_sql(f\"UPDATE inscricao set valor = {value} where id = '{id}'\")\n",
        "  cmd_sql(\"ALTER TABLE inscricao ENABLE TRIGGER key_check_on, ENABLE TRIGGER audit_actions\")\n",
        "\n",
        "def update_ref(id, ref):\n",
        "  cmd_sql(\"ALTER TABLE inscricao DISABLE TRIGGER key_check_on, DISABLE TRIGGER audit_actions\")\n",
        "  cmd_sql(f\"UPDATE inscricao set referencia = '{ref}' where id = '{id}'\")\n",
        "  cmd_sql(\"ALTER TABLE inscricao ENABLE TRIGGER key_check_on, ENABLE TRIGGER audit_actions\")"
      ],
      "metadata": {
        "id": "r4vOdBUhlMC8"
      },
      "execution_count": null,
      "outputs": []
    },
    {
      "cell_type": "code",
      "source": [
        "update_ref('00000000000001612624', getRef('2022', '2'))"
      ],
      "metadata": {
        "colab": {
          "base_uri": "https://localhost:8080/"
        },
        "id": "7MjyLqx9qc07",
        "outputId": "45f75ae7-3dda-4092-e1b0-854f08d4a71d"
      },
      "execution_count": null,
      "outputs": [
        {
          "output_type": "stream",
          "name": "stdout",
          "text": [
            "(Sucesso) SQL Update\n",
            "(Sucesso) SQL Update\n",
            "(Sucesso) SQL Update\n"
          ]
        }
      ]
    },
    {
      "cell_type": "code",
      "source": [
        "def getPreviwID(ano, semestre):\n",
        "  sql_cmd =f\"'UNION+SELECT+r.id,null,null,null,null,null,null,null,null+FROM+recibo r WHERE num_comprovativo = (SELECT referencia FROM inscricao i INNER JOIN recibo r ON i.referencia = r.num_comprovativo WHERE ano_lectivo_id = '{ano}' AND semestre = '{semestre}' LIMIT 1);\"\n",
        "  return SELECT(sql_cmd)[0]"
      ],
      "metadata": {
        "id": "VeIzclorg2Gu"
      },
      "execution_count": null,
      "outputs": []
    },
    {
      "cell_type": "code",
      "execution_count": null,
      "metadata": {
        "id": "JSkYSpNSXYji",
        "colab": {
          "base_uri": "https://localhost:8080/"
        },
        "outputId": "eabc7ed0-9e66-4959-e08a-d3307a11e875"
      },
      "outputs": [
        {
          "output_type": "execute_result",
          "data": {
            "text/plain": [
              "[{'id': '00000000000001623925',\n",
              "  'ano': '2023',\n",
              "  'sem': '1',\n",
              "  'ref': '04373520171',\n",
              "  'valor': '4550.00'},\n",
              " {'id': '00000000000001612624',\n",
              "  'ano': '2022',\n",
              "  'sem': '2',\n",
              "  'ref': '04270821216',\n",
              "  'valor': '4550.00'},\n",
              " {'id': '00000000000001556795',\n",
              "  'ano': '2022',\n",
              "  'sem': '1',\n",
              "  'ref': '04011310157',\n",
              "  'valor': '4550.00'},\n",
              " {'id': '00000000000001422811',\n",
              "  'ano': '2021',\n",
              "  'sem': '1',\n",
              "  'ref': '03690460179',\n",
              "  'valor': '6350.00'},\n",
              " {'id': '00000000000001494566',\n",
              "  'ano': '2021',\n",
              "  'sem': '2',\n",
              "  'ref': '03690461262',\n",
              "  'valor': '4550.00'}]"
            ]
          },
          "metadata": {},
          "execution_count": 103
        }
      ],
      "source": [
        "total = []\n",
        "for i in range(0, len(result1), 5):\n",
        "  divida_total= {}\n",
        "  divida_total['id'] = result1[i]\n",
        "  divida_total['ano'] = result1[i+1]\n",
        "  divida_total['sem'] = result1[i+2]\n",
        "  divida_total['ref'] = result1[i+3]\n",
        "  divida_total['valor'] = result1[i+4]\n",
        "  total.append(divida_total)\n",
        "  #print(total)\n",
        "total"
      ]
    },
    {
      "cell_type": "code",
      "source": [
        "for d in total:\n",
        "  print(d['valor'] == '0.00')\n",
        "  if d['valor'] == '0.00':\n",
        "    update_value(id=d['id'])"
      ],
      "metadata": {
        "id": "DwLKmDndmgtz"
      },
      "execution_count": null,
      "outputs": []
    },
    {
      "cell_type": "markdown",
      "metadata": {
        "id": "ZbKVaY9LbFNY"
      },
      "source": [
        "20200600000004157536\n",
        "DO $$\n",
        "DECLARE\n",
        "    v_sequencia bigint;\n",
        "    v_id text;\n",
        "    v_recibo record;\n",
        "BEGIN\n",
        "    -- Inicialize o valor da sequência\n",
        "    v_sequencia := 4157536;\n",
        "    \n",
        "    LOOP\n",
        "        -- Construa o ID com o prefixo e a sequência\n",
        "        v_id := '2020060000000' || v_sequencia;\n",
        "        \n",
        "        -- Realize a consulta com o ID atual\n",
        "        SELECT * INTO v_recibo FROM recibo WHERE id = v_id;\n",
        "        \n",
        "        -- Verifique se o resultado é nulo\n",
        "        IF v_recibo IS NULL THEN\n",
        "            RAISE NOTICE 'ID NULL: %', v_id;\n",
        "            EXIT;\n",
        "        END IF;\n",
        "            \n",
        "        -- Incremente a sequência para a próxima consulta\n",
        "        v_sequencia := v_sequencia + 1;\n",
        "    END LOOP;\n",
        "END $$;"
      ]
    },
    {
      "cell_type": "code",
      "execution_count": null,
      "metadata": {
        "id": "_UNQOIjEcUVU"
      },
      "outputs": [],
      "source": [
        "#v_sequencia = 4421270\n",
        "def next_recibo_id(v_sequencia: int) -> str | None:\n",
        "  while True:\n",
        "    query = f\"'UNION+SELECT+id,null,null,null,null,null,null,null,null+FROM+recibo WHERE id = '{v_sequencia}'\"\n",
        "    result = SELECT(query)\n",
        "    if len(result) == 0:\n",
        "      break\n",
        "    else:\n",
        "      v_sequencia += 1\n",
        "  print('New recibo ID:', v_sequencia)\n",
        "  return v_sequencia"
      ]
    },
    {
      "cell_type": "code",
      "execution_count": null,
      "metadata": {
        "id": "rHJrSANmkIzz"
      },
      "outputs": [],
      "source": [
        "def pagamento_divida(recibo_id, dateDivida, estudante_id):\n",
        "  #INSERT INTO recibo\n",
        "  INSERT_INTO_RECIBO = f\"\"\"\n",
        "  WITH DatasCapturada AS (\n",
        "      SELECT data_comprovativo, data_emissao, trace_id\n",
        "      FROM recibo\n",
        "      WHERE num_comprovativo = (SELECT referencia FROM inscricao i\n",
        "          INNER JOIN recibo r ON i.referencia = r.num_comprovativo\n",
        "          WHERE ano_lectivo_id ='{dateDivida['ano']}' AND semestre = '{dateDivida['sem']}'\n",
        "          LIMIT 1)\n",
        "  )\n",
        "  INSERT INTO recibo (id, estudante_id, data_emissao, banco, forma_pagto, num_comprovativo, data_comprovativo, valor, extenso, trace_id)\n",
        "  SELECT '{recibo_id}', i.estudante_id, (SELECT data_emissao FROM DatasCapturada), (SELECT MAX(banco) FROM recibo WHERE estudante_id = '{estudante_id}'), 'Servicos', i.referencia, (SELECT data_comprovativo FROM DatasCapturada), i.valor, (select extenso from recibo where valor = i.valor limit 1), (select trace_id from DatasCapturada)\n",
        "  FROM inscricao i\n",
        "  WHERE i.referencia = '{dateDivida['ref']}'\"\"\"\n",
        "  print('Inserido dados de recibo')\n",
        "  cmd_sql(INSERT_INTO_RECIBO)\n",
        "\n",
        "  #insere dados na tabela recebimento (comando unico)\n",
        "  INSERT_INTO_RECEBIMENTO = f\"\"\"WITH ReciboCapturada as (\n",
        "        SELECT r.id, r.trace_id\n",
        "          FROM recibo r\n",
        "          INNER JOIN inscricao i ON i.referencia = r.num_comprovativo\n",
        "          WHERE i.ano_lectivo_id ='{dateDivida['ano']}' AND i.semestre = '{dateDivida['sem']}' AND i.estudante_id = '{estudante_id}'\n",
        "      ),\n",
        "      DataCapturada AS (\n",
        "          SELECT data_movimento\n",
        "          FROM recebimento\n",
        "          WHERE recibo_id = (SELECT id FROM recibo where num_comprovativo = (SELECT referencia FROM inscricao i\n",
        "              INNER JOIN recibo r ON i.referencia = r.num_comprovativo\n",
        "              WHERE ano_lectivo_id = '{dateDivida['ano']}' AND semestre = '{dateDivida['sem']}' LIMIT 1)) LIMIT 1\n",
        "      )\n",
        "      INSERT INTO recebimento (id, tipo, estudante_id, historico, valor, recibo_id, trace_id, data_movimento)\n",
        "      SELECT '2022000000000' || (SELECT tp.id::text), 'Emolumento', i.estudante_id, tp.nome, tp.valor, (select id from ReciboCapturada), (select trace_id from ReciboCapturada), (select data_movimento from DataCapturada) FROM inscricao i, temp_pagamentos tp where i.referencia = '{dateDivida['ref']}' AND tp.temp_inscricao_id = '{dateDivida['id']}'\"\"\"\n",
        "  print('Inserindo dados de recebimento')\n",
        "  cmd_sql(INSERT_INTO_RECEBIMENTO)\n",
        "  #INSERT INTO inscricao_valor\n",
        "  inscricao_valor = f\"\"\"INSERT INTO inscricao_valor (estudante_id, ano_lectivo_id, semestre, valor, trace_id, referencia, key)\n",
        "                            (SELECT ti.estudante_id, ti.ano_lectivo_id, ti.semestre, r.valor, r.trace_id, r.id, (select key from recibo limit 1) FROM temp_inscricao ti INNER JOIN recibo r ON r.num_comprovativo = ti.referencia where ti.id = '{dateDivida['id']}')\"\"\"\n",
        "  print('Inserindo dados de valor')\n",
        "  cmd_sql(inscricao_valor)"
      ]
    },
    {
      "cell_type": "code",
      "source": [
        "cmd_sql(\"ALTER TABLE recibo DISABLE TRIGGER key_check_on, DISABLE TRIGGER audit_actions\")\n",
        "cmd_sql(\"ALTER TABLE inscricao_valor DISABLE TRIGGER key_check_on\")\n",
        "for dd in total:\n",
        "  seq_recibo_id = getPreviwID(dd['ano'], dd['sem'])\n",
        "  pagamento_divida(recibo_id=next_recibo_id(v_sequencia=int(seq_recibo_id)), dateDivida=dd, estudante_id=estudante_id)\n",
        "cmd_sql(\"ALTER TABLE recibo ENABLE TRIGGER key_check_on, ENABLE TRIGGER audit_actions\")\n",
        "cmd_sql(\"ALTER TABLE inscricao_valor ENABLE TRIGGER key_check_on\")"
      ],
      "metadata": {
        "colab": {
          "base_uri": "https://localhost:8080/"
        },
        "id": "zbn8JYo5QABY",
        "outputId": "0aff4a96-b122-432d-8360-876f24813cdf"
      },
      "execution_count": null,
      "outputs": [
        {
          "metadata": {
            "tags": null
          },
          "name": "stdout",
          "output_type": "stream",
          "text": [
            "(Sucesso) SQL Update\n",
            "(Sucesso) SQL Update\n"
          ]
        }
      ]
    }
  ],
  "metadata": {
    "colab": {
      "collapsed_sections": [
        "nK80AZ5mO69X",
        "XWlOV5uu7YQ-",
        "TokZ2bBXaYe2",
        "tV10Xlpozmhc",
        "LVkHCWKpS734"
      ],
      "provenance": [],
      "include_colab_link": true
    },
    "kernelspec": {
      "display_name": "Python 3",
      "name": "python3"
    },
    "language_info": {
      "name": "python"
    }
  },
  "nbformat": 4,
  "nbformat_minor": 0
}